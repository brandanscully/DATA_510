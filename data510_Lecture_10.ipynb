{
 "cells": [
  {
   "cell_type": "markdown",
   "id": "51eea80a",
   "metadata": {},
   "source": [
    "# Cleaning, Analysis, Visualization Walkthrough"
   ]
  },
  {
   "cell_type": "markdown",
   "id": "653bc2d9",
   "metadata": {},
   "source": [
    "[The Austin Animal Shelter Intakes and Outcomes Dataset](https://www.kaggle.com/datasets/aaronschlegel/austin-animal-center-shelter-intakes-and-outcomes)\n",
    "\n",
    "[Reference: Dan Poynor](https://github.com/danpoynor/pet-shelter-data-analysis-notebook)"
   ]
  },
  {
   "cell_type": "code",
   "execution_count": null,
   "id": "4f61653e",
   "metadata": {},
   "outputs": [],
   "source": [
    "# import the things\n",
    "import pandas as pd\n",
    "import os"
   ]
  },
  {
   "cell_type": "code",
   "execution_count": null,
   "id": "4eb93a85",
   "metadata": {},
   "outputs": [],
   "source": [
    "# read csvs from path and create data frames\n",
    "intakes= r'/Users/brandanscully/Documents/GitHub/DATA_510/aac_intakes.csv'\n",
    "outcomes= r'/Users/brandanscully/Documents/GitHub/DATA_510/aac_outcomes.csv'\n",
    "\n",
    "df_i = pd.read_csv(intakes)\n",
    "df_o = pd.read_csv(outcomes)"
   ]
  },
  {
   "cell_type": "code",
   "execution_count": null,
   "id": "50aefece",
   "metadata": {},
   "outputs": [],
   "source": [
    "# inspect intakes dataframe\n",
    "df_i.head()"
   ]
  },
  {
   "cell_type": "markdown",
   "id": "478e8907",
   "metadata": {},
   "source": [
    "Note that datetime and datetime2 are both datetime, but appear to be redundant."
   ]
  },
  {
   "cell_type": "code",
   "execution_count": null,
   "id": "a7481683",
   "metadata": {
    "scrolled": true
   },
   "outputs": [],
   "source": [
    "#inspect outcomes data frame\n",
    "df_o.head()"
   ]
  },
  {
   "cell_type": "markdown",
   "id": "b0bd535e",
   "metadata": {},
   "source": [
    "Note that datetime and monthyear are in datetime but appear to be redundant.\n",
    "\n",
    "Note that date_of_birth appears to use datetime format when date would suffice."
   ]
  },
  {
   "cell_type": "code",
   "execution_count": null,
   "id": "237814a6",
   "metadata": {},
   "outputs": [],
   "source": [
    "#inspect df dimensions\n",
    "df_i.shape, df_o.shape"
   ]
  },
  {
   "cell_type": "markdown",
   "id": "9efd8dd1",
   "metadata": {},
   "source": [
    "Note, data frames have differing number of records, same number of columns."
   ]
  },
  {
   "cell_type": "code",
   "execution_count": null,
   "id": "13d10aec",
   "metadata": {},
   "outputs": [],
   "source": [
    "#deduplicate rows and check the resulting lengths\n",
    "df_i.drop_duplicates(keep='first', inplace=True)\n",
    "df_o.drop_duplicates(keep='first', inplace=True)\n",
    "\n",
    "len(df_i), len(df_o)"
   ]
  },
  {
   "cell_type": "markdown",
   "id": "bc4ac1a6",
   "metadata": {},
   "source": [
    "That removed 26 rows from df_i and 10 rows from df_o."
   ]
  },
  {
   "cell_type": "code",
   "execution_count": null,
   "id": "424f99d6",
   "metadata": {},
   "outputs": [],
   "source": [
    "#inspect resulting df_i\n",
    "df_i.info()"
   ]
  },
  {
   "cell_type": "code",
   "execution_count": null,
   "id": "1bc4a4ae",
   "metadata": {},
   "outputs": [],
   "source": [
    "#inspect resulting df_o\n",
    "df_o.info()"
   ]
  },
  {
   "cell_type": "code",
   "execution_count": null,
   "id": "a4e65fc7",
   "metadata": {},
   "outputs": [],
   "source": [
    "#these are the columns that are in df_i but not df_o\n",
    "set(df_i.columns) - set(df_o.columns)"
   ]
  },
  {
   "cell_type": "code",
   "execution_count": null,
   "id": "394ffd9a",
   "metadata": {},
   "outputs": [],
   "source": [
    "#these are the columns that are in df_o but not df_i\n",
    "set(df_o.columns) - set(df_i.columns)"
   ]
  },
  {
   "cell_type": "code",
   "execution_count": null,
   "id": "717ed053",
   "metadata": {},
   "outputs": [],
   "source": [
    "#inspect df_i statistics\n",
    "df_i.describe()"
   ]
  },
  {
   "cell_type": "markdown",
   "id": "1244613f",
   "metadata": {},
   "source": [
    "Note that there are 72,365 unique animal_id values of 80187 records.\n",
    "\n",
    "Note datetime and datetime2 appear to be redundant."
   ]
  },
  {
   "cell_type": "code",
   "execution_count": null,
   "id": "d3c22af4",
   "metadata": {},
   "outputs": [],
   "source": [
    "#inspect df_o statistics\n",
    "df_o.describe()"
   ]
  },
  {
   "cell_type": "markdown",
   "id": "7acf7952",
   "metadata": {},
   "source": [
    "Note that there are 72877 unique animal_id values of 80681 records. Compare to 72,365 uniques in df_i.\n",
    "\n",
    "Note datetime and monthyear fields appear to be redundant.\n",
    "\n",
    "We'll address the redundant columns using Pandas' [transpose](https://pandas.pydata.org/pandas-docs/version/0.25.0/reference/api/pandas.DataFrame.T.html) method.\n",
    "\n",
    "We first use .T method to transpose each data frame.\n",
    "This turns rows to columns.\n",
    "We then drop_duplicates as before, and .T again to undo our original .T\n",
    "\n",
    "I originally tried this with the inplace=True argument and got an error related to None values. It worked with variable assignment."
   ]
  },
  {
   "cell_type": "code",
   "execution_count": null,
   "id": "97db0842",
   "metadata": {},
   "outputs": [],
   "source": [
    "df_i = df_i.T.drop_duplicates().T\n",
    "df_o = df_o.T.drop_duplicates().T\n",
    "\n",
    "df_i.shape[1], df_o.shape[1]"
   ]
  },
  {
   "cell_type": "markdown",
   "id": "7311010a",
   "metadata": {},
   "source": [
    "Each data frame lost one column.\n",
    "\n",
    "Let's check to see if there are unique pairs of animal_id and name (there should be)."
   ]
  },
  {
   "cell_type": "code",
   "execution_count": null,
   "id": "69116567",
   "metadata": {},
   "outputs": [],
   "source": [
    "\"\"\"\n",
    "We're going to use .groupby to give us an index of 'animal_id'.\n",
    "We're then going to call the 'name' field and generate a list of \n",
    "unique names for the index.\n",
    "Once we have a list of names for each 'animal_id', \n",
    "we will apply len() to the list.\n",
    "This will result in a series of unique names per 'animal_id'.\n",
    "We'll sort that to see if there are more than one name per id.\n",
    "\"\"\"\n",
    "df_i.groupby(['animal_id'])['name'].unique().apply(lambda x:len(x)).sort_values()"
   ]
  },
  {
   "cell_type": "code",
   "execution_count": null,
   "id": "23858514",
   "metadata": {},
   "outputs": [],
   "source": [
    "#same deal for df_o\n",
    "df_o.groupby(['animal_id'])['name'].unique().apply(lambda x:len(x)).sort_values()"
   ]
  },
  {
   "cell_type": "markdown",
   "id": "45f9c666",
   "metadata": {},
   "source": [
    "Looks good. Let's merge!"
   ]
  },
  {
   "cell_type": "code",
   "execution_count": null,
   "id": "3603bc91",
   "metadata": {},
   "outputs": [],
   "source": [
    "#df_i becomes left\n",
    "\n",
    "df_i_o = df_i.merge(\n",
    "    df_o,\n",
    "    left_on=['name', 'animal_id', 'animal_type', 'breed', 'color'],\n",
    "    right_on=['name', 'animal_id', 'animal_type', 'breed', 'color'],\n",
    "    suffixes=('_intake', '_outcome')\n",
    ")"
   ]
  },
  {
   "cell_type": "code",
   "execution_count": null,
   "id": "bc593bb3",
   "metadata": {},
   "outputs": [],
   "source": [
    "#inspect the resulting dataframe\n",
    "df_i_o.info()"
   ]
  },
  {
   "cell_type": "markdown",
   "id": "e08a7c09",
   "metadata": {},
   "source": [
    "Initially, each data frame used 8.0+MB of memory. Combined memory is downt to 13.7+MB (savings!).\n",
    "\n",
    "We have some datetime fields that are being stored as objects, so we'll need to convert those if we want to use them.\n",
    "\n",
    "It looks like there are some null values primarily in names and outcome_subtypes. Also outcome_type, sex_upon_intake, age_upon_outcome.\n",
    "\n",
    "Let's take a look at those."
   ]
  },
  {
   "cell_type": "code",
   "execution_count": null,
   "id": "29df4325",
   "metadata": {},
   "outputs": [],
   "source": [
    "#start with NaN names\n",
    "df_i_o[df_i_o.name.isna()].head()"
   ]
  },
  {
   "cell_type": "code",
   "execution_count": null,
   "id": "e5750fdf",
   "metadata": {},
   "outputs": [],
   "source": [
    "#let's set NaN names to Unknown.\n",
    "df_i_o['name'].fillna('Unknown', inplace=True)"
   ]
  },
  {
   "cell_type": "code",
   "execution_count": null,
   "id": "389b8d64",
   "metadata": {},
   "outputs": [],
   "source": [
    "\"\"\"\n",
    "on to outcome_subtype.\n",
    "we'll use a sample of 10 here instead of head.\n",
    "This should let us see a cross section of possible outcomes \n",
    "and their subtypes.\n",
    "\"\"\"\n",
    "df_i_o[df_i_o.outcome_subtype.isna()].sample(10)"
   ]
  },
  {
   "cell_type": "markdown",
   "id": "e31fe0ab",
   "metadata": {},
   "source": [
    "It seems the 'Return to Owner' and 'Adoption' outcomes have no associated subtypes. This is fine. Note it makes sense for the outcome_type to come before outcome_subtype.\n",
    "\n",
    "Let's take a look at the outcome_type using our animal_id approach to make sure we're not missing anything."
   ]
  },
  {
   "cell_type": "code",
   "execution_count": null,
   "id": "b9cbbb84",
   "metadata": {},
   "outputs": [],
   "source": [
    "df_o.groupby(['outcome_type'])['outcome_subtype'].unique()"
   ]
  },
  {
   "cell_type": "markdown",
   "id": "4bb4598f",
   "metadata": {},
   "source": [
    "The sample approach missed \"Died\", \"Disposal\", \"Relocate\", \"Rto-Adopt\", \"Missing\", and possibly \"Euthanasia\".\n",
    "\n",
    "There's another way to approach this problem."
   ]
  },
  {
   "cell_type": "code",
   "execution_count": null,
   "id": "2dd8c1e3",
   "metadata": {},
   "outputs": [],
   "source": [
    "df_i_o[df_i_o.outcome_subtype.isna()].outcome_type.unique()"
   ]
  },
  {
   "cell_type": "markdown",
   "id": "fc2e03a4",
   "metadata": {},
   "source": [
    "This makes it look like there are some nan outcome_type values.\n",
    "\n",
    "We should look at these. Let's start with shape."
   ]
  },
  {
   "cell_type": "code",
   "execution_count": null,
   "id": "360d7fee",
   "metadata": {},
   "outputs": [],
   "source": [
    "df_i_o[df_i_o.outcome_type.isna()].shape"
   ]
  },
  {
   "cell_type": "markdown",
   "id": "4d7b4d09",
   "metadata": {},
   "source": [
    "Small enough that jupyter should show us the whole table."
   ]
  },
  {
   "cell_type": "code",
   "execution_count": null,
   "id": "bab6152b",
   "metadata": {},
   "outputs": [],
   "source": [
    "df_i_o[df_i_o.outcome_type.isna()]"
   ]
  },
  {
   "cell_type": "markdown",
   "id": "9befe700",
   "metadata": {},
   "source": [
    "Woah. More than cats and dogs, but the animal types are being saved as breeds with animal_type 'Other'. \n",
    "\n",
    "Note some * in the name field. That field could use some cleaning.\n",
    "\n",
    "Let's see how many animal types are in the data set."
   ]
  },
  {
   "cell_type": "code",
   "execution_count": null,
   "id": "1eef121d",
   "metadata": {},
   "outputs": [],
   "source": [
    "df_i_o[df_i_o.animal_type=='Other'].groupby(['breed'])['name'].count().sort_values(ascending=False)"
   ]
  },
  {
   "cell_type": "markdown",
   "id": "ce4c38f1",
   "metadata": {},
   "source": [
    "Ok. 97 unique breeds of \"Other\" animal_types.\n",
    "\n",
    "Bats, raccoons, and rabbits seem to be the most popular.\n",
    "\n",
    "It looks like there is some ambiguity in the breed descriptions."
   ]
  },
  {
   "cell_type": "code",
   "execution_count": null,
   "id": "6da670ce",
   "metadata": {},
   "outputs": [],
   "source": [
    "#for completeness\n",
    "df_i_o['animal_type'].unique()"
   ]
  },
  {
   "cell_type": "markdown",
   "id": "1d067217",
   "metadata": {},
   "source": [
    "We learned a few things here.\n",
    "\n",
    "* The name field could use some cleaning\n",
    "* Some outcome_types have no associated outcome_subtype.\n",
    "* Some outcome_types clustered in animal_type='Other' are NaN and appear to have NaN outcome_subtype.\n",
    "* There's some ambiguity in the breed field for animal_type='Other'\n",
    "* The rest of the breed field is probably worth investigating/cleaning.\n",
    "\n",
    "# Let's discuss how we should handle these."
   ]
  },
  {
   "cell_type": "code",
   "execution_count": null,
   "id": "69d50b8c",
   "metadata": {},
   "outputs": [],
   "source": [
    "#Fix the data here."
   ]
  },
  {
   "cell_type": "markdown",
   "id": "e4681c7d",
   "metadata": {},
   "source": [
    "Let's engineer some features, starting with stay_duration.\n",
    "\n",
    "First, we're going to need to convert datetimes stored as objects to datetimes. \n",
    "\n",
    "Here's the [pandas datetime docs](https://pandas.pydata.org/pandas-docs/stable/user_guide/timeseries.html)\n",
    "\n",
    "Here's a [datetime reference](https://towardsdatascience.com/10-tricks-for-converting-numbers-and-strings-to-datetime-in-pandas-82a4645fc23d)."
   ]
  },
  {
   "cell_type": "code",
   "execution_count": null,
   "id": "480d5a9f",
   "metadata": {},
   "outputs": [],
   "source": [
    "df_i_o = df_i_o.astype({\n",
    "    'datetime_intake': 'datetime64',\n",
    "    'date_of_birth': 'datetime64',\n",
    "    'datetime_outcome': 'datetime64'\n",
    "})\n",
    "df_i_o.dtypes"
   ]
  },
  {
   "cell_type": "code",
   "execution_count": null,
   "id": "7098ddde",
   "metadata": {},
   "outputs": [],
   "source": [
    "#That worked. Let's look at our time data\n",
    "df_i_o.describe(datetime_is_numeric=True)"
   ]
  },
  {
   "cell_type": "code",
   "execution_count": null,
   "id": "2a747f7e",
   "metadata": {},
   "outputs": [],
   "source": [
    "df_i_o['stay_days']=(df_i_o['datetime_outcome']-df_i_o['datetime_intake']).dt.days"
   ]
  },
  {
   "cell_type": "code",
   "execution_count": null,
   "id": "f6de2971",
   "metadata": {},
   "outputs": [],
   "source": [
    "# Let's look at dtypes\n",
    "df_i_o.dtypes"
   ]
  },
  {
   "cell_type": "code",
   "execution_count": null,
   "id": "11b1a9a4",
   "metadata": {},
   "outputs": [],
   "source": [
    "#let's look at the column we created\n",
    "df_i_o['stay_days'].describe(datetime_is_numeric=True)"
   ]
  },
  {
   "cell_type": "markdown",
   "id": "0ab63818",
   "metadata": {},
   "source": [
    "Clearly something's not right, because we have a negative time value.\n",
    "\n",
    "Also, one animal has been there over 4 years!\n",
    "\n",
    "Let's investigate."
   ]
  },
  {
   "cell_type": "code",
   "execution_count": null,
   "id": "fb6fc731",
   "metadata": {},
   "outputs": [],
   "source": [
    "df_i_o[df_i_o['stay_days'] < 0][['stay_days','datetime_intake','datetime_outcome']]"
   ]
  },
  {
   "cell_type": "markdown",
   "id": "8e2398b6",
   "metadata": {},
   "source": [
    "This is a substantial number of records. \n",
    "\n",
    "# Let's discuss causes and alternative solutiions."
   ]
  },
  {
   "cell_type": "code",
   "execution_count": null,
   "id": "2f42f0a1",
   "metadata": {},
   "outputs": [],
   "source": [
    "df_i_o[df_i_o['stay_days'] >= 1640]"
   ]
  },
  {
   "cell_type": "markdown",
   "id": "511f239d",
   "metadata": {},
   "source": [
    "I refuse to believe an 11 month old lab puppy took 4 years to get adopted!\n",
    "\n",
    "Speaking of the \"age_upon_intake\" and \"age_upon_outcome\" fields...\n",
    "\n",
    "They contain timedelta-like information, e.g. 11 months. \n",
    "\n",
    "Let's discuss how we can convert them to a duration?"
   ]
  },
  {
   "cell_type": "code",
   "execution_count": null,
   "id": "c5162c9c",
   "metadata": {},
   "outputs": [],
   "source": [
    "# One way that preserves the content of the data\n",
    "# 1: Figure out what the durations are.\n",
    "durations = df_i_o['age_upon_intake'].apply(lambda x: x.split()).apply(lambda x: x[1]).unique()\n",
    "durations"
   ]
  },
  {
   "cell_type": "code",
   "execution_count": null,
   "id": "53367ca1",
   "metadata": {},
   "outputs": [],
   "source": [
    "# 2: create a dictionary of duration multipliers\n",
    "dur_days =[365, 30, 7, 30, 365, 1, 1, 7]\n",
    "dur_mult = dict(zip(durations, dur_days))\n",
    "dur_mult"
   ]
  },
  {
   "cell_type": "code",
   "execution_count": null,
   "id": "3e044968",
   "metadata": {},
   "outputs": [],
   "source": [
    "# Create a column to hold the product of the duration scalar * duration days\n",
    "df_i_o['intake_age_days'] = df_i_o['age_upon_intake'].apply(lambda x: x.split()).apply(lambda x: pd.to_timedelta(int(x[0])*dur_mult[x[1]], unit='D'))"
   ]
  },
  {
   "cell_type": "code",
   "execution_count": null,
   "id": "602b725e",
   "metadata": {},
   "outputs": [],
   "source": [
    "df_i_o[['intake_age_days', 'age_upon_intake']]"
   ]
  },
  {
   "cell_type": "code",
   "execution_count": null,
   "id": "e48233c5",
   "metadata": {},
   "outputs": [],
   "source": [
    "#check the dtypes\n",
    "df_i_o[['intake_age_days', 'age_upon_intake']].dtypes"
   ]
  },
  {
   "cell_type": "markdown",
   "id": "4e3a39fb",
   "metadata": {},
   "source": [
    "What else could we try?"
   ]
  },
  {
   "cell_type": "markdown",
   "id": "4660a856",
   "metadata": {},
   "source": [
    "Let's add some date helper columns."
   ]
  },
  {
   "cell_type": "code",
   "execution_count": null,
   "id": "7f212aeb",
   "metadata": {},
   "outputs": [],
   "source": [
    "df_i_o['datetime_intake_year'] = df_i_o['datetime_intake'].dt.year\n",
    "df_i_o['datetime_intake_month'] = df_i_o['datetime_intake'].dt.month\n",
    "df_i_o['intake_year_month'] = pd.to_datetime(df_i_o['datetime_intake']).dt.to_period('M')\n",
    "# Check the result\n",
    "df_i_o.head()"
   ]
  },
  {
   "cell_type": "code",
   "execution_count": null,
   "id": "4eabad7f",
   "metadata": {},
   "outputs": [],
   "source": [
    "monthly = df_i_o.groupby('datetime_intake_month').size().sort_index()\n",
    "# Plot the findings to make the months with higher and lower intakes more obvious.\n",
    "chrt = monthly.plot(kind='line', figsize=(12, 6), color=\"#0d47a1\", use_index=True, lw=3)\n",
    "chrt.set_title('Animal Intake Per Month', fontsize=15, fontweight=\"bold\")\n",
    "chrt.set_xlabel('Month', fontsize=16)\n",
    "chrt.set_ylabel('Number of Intakes', fontsize=15)\n",
    "chrt.set_xticks([1, 2, 3, 4, 5, 6, 7, 8, 9, 10, 11, 12]) # Need to avoid FixedFormatter warning\n",
    "xlbl_mos = [\"Jan\", \"Feb\", \"Mar\", \"Apr\", \"May\", \"Jun\", \"Jul\", \"Aug\", \"Sept\", \"Oct\", \"Nov\", \"Dec\"]\n",
    "chrt.set_xticklabels(xlbl_mos)\n",
    "chrt.tick_params(colors='#1976d2', which='both', direction='inout', length=6, width=\"3\", labelsize=\"12\")\n",
    "chrt.grid(True, ls=\"dashed\", lw=\".75\")\n",
    "chrt.set_facecolor('#e3f2fd')"
   ]
  },
  {
   "cell_type": "code",
   "execution_count": null,
   "id": "c757b852",
   "metadata": {},
   "outputs": [],
   "source": [
    "monthly adoptions = df_i_o[df_i_o['outcome_type']=='Adoption'].groupby('datetime_intake_month').size().sort_index()"
   ]
  },
  {
   "cell_type": "code",
   "execution_count": null,
   "id": "ac15478d",
   "metadata": {},
   "outputs": [],
   "source": [
    "monthly_adoptions = df_i_o[df_i_o['outcome_type']=='Adoption'].groupby('datetime_intake_month').size().sort_index()\n",
    "monthly_adoption_rate = (monthly_adoptions/monthly)*100\n",
    "# Plot the findings to make the months with higher and lower intakes more obvious.\n",
    "chrt2 = monthly_adoption_rate.plot(kind='line', figsize=(12, 6), color=\"#0d47a1\", use_index=True, lw=3)\n",
    "chrt2.set_title('Monthly Adoption Rate (%)', fontsize=15, fontweight=\"bold\")\n",
    "chrt2.set_xlabel('Month', fontsize=16)\n",
    "chrt2.set_ylabel('Adoption Rate (%)', fontsize=15)\n",
    "chrt2.set_xticks([1, 2, 3, 4, 5, 6, 7, 8, 9, 10, 11, 12]) # Need to avoid FixedFormatter warning\n",
    "chrt2.set_xticklabels(xlbl_mos)\n",
    "chrt2.tick_params(colors='#1976d2', which='both', direction='inout', length=6, width=\"3\", labelsize=\"12\")\n",
    "chrt2.grid(True, ls=\"dashed\", lw=\".75\")\n",
    "chrt2.set_facecolor('#e3f2fd')"
   ]
  },
  {
   "cell_type": "markdown",
   "id": "20c7a85f",
   "metadata": {},
   "source": [
    "This next example brought to you by sheer force of will and Narragansett.\n",
    "\n",
    "Let's look at the distribution of outcome types by month using an area plot."
   ]
  },
  {
   "cell_type": "code",
   "execution_count": null,
   "id": "860a00e4",
   "metadata": {},
   "outputs": [],
   "source": [
    "\"\"\"First, we're going to need the numerator for every month, \n",
    "which is the number of each type of outcome\"\"\"\n",
    "df_i_o.groupby(['datetime_intake_month','outcome_type'])['outcome_type'].count()"
   ]
  },
  {
   "cell_type": "code",
   "execution_count": null,
   "id": "67aa800c",
   "metadata": {},
   "outputs": [],
   "source": [
    "#the denominator will be the total number of outcomes that month.\n",
    "df_i_o.groupby(['datetime_intake_month','outcome_type'])['outcome_type'].count().groupby(level=[0]).sum()"
   ]
  },
  {
   "cell_type": "code",
   "execution_count": null,
   "id": "1558b514",
   "metadata": {},
   "outputs": [],
   "source": [
    "#put them together\n",
    "monthly_outcomes = df_i_o.groupby(['datetime_intake_month','outcome_type'])['outcome_type'].count()/df_i_o.groupby(['datetime_intake_month','outcome_type'])['outcome_type'].count().groupby(level=[0]).sum()\n",
    "monthly_outcomes"
   ]
  },
  {
   "cell_type": "code",
   "execution_count": null,
   "id": "c06f95ee",
   "metadata": {},
   "outputs": [],
   "source": [
    "#wizardry\n",
    "m_o_unstack = monthly_outcomes.unstack().fillna(0)\n",
    "m_o_unstack"
   ]
  },
  {
   "cell_type": "markdown",
   "id": "0e2706f2",
   "metadata": {},
   "source": [
    "let's check that we did the math right. \n",
    "\n",
    "# Every month should add to ...?\n"
   ]
  },
  {
   "cell_type": "code",
   "execution_count": null,
   "id": "a90413a5",
   "metadata": {},
   "outputs": [],
   "source": [
    "# df_i_o.plot.area(x=None, y=None, **kwargs)\n",
    "m_o_unstack.sum(axis=1)"
   ]
  },
  {
   "cell_type": "code",
   "execution_count": null,
   "id": "81a75dd7",
   "metadata": {},
   "outputs": [],
   "source": [
    "#pandas default behavior\n",
    "m_o_unstack.plot.area()"
   ]
  },
  {
   "cell_type": "code",
   "execution_count": null,
   "id": "b8e55d65",
   "metadata": {},
   "outputs": [],
   "source": [
    "# let's gussy that up\n",
    "chrt3 = m_o_unstack.plot(kind='area', figsize=(12, 6))\n",
    "chrt3.set_title('Monthly Outcomes', fontsize=15, fontweight=\"bold\")\n",
    "chrt3.set_xlabel('Month', fontsize=16)\n",
    "chrt3.set_ylabel('Outcome ratio', fontsize=15)\n",
    "chrt3.set_xticks([1, 2, 3, 4, 5, 6, 7, 8, 9, 10, 11, 12]) # Need to avoid FixedFormatter warning\n",
    "chrt3.set_xticklabels(xlbl_mos)\n",
    "chrt3.tick_params(colors='#1976d2', which='both', direction='inout', length=6, width=\"3\", labelsize=\"12\")"
   ]
  },
  {
   "cell_type": "markdown",
   "id": "7f2884e8",
   "metadata": {},
   "source": [
    "# Let's think about storage."
   ]
  },
  {
   "cell_type": "code",
   "execution_count": null,
   "id": "074f38d2",
   "metadata": {},
   "outputs": [],
   "source": [
    "df_i_o.info()"
   ]
  },
  {
   "cell_type": "markdown",
   "id": "a8054012",
   "metadata": {},
   "source": [
    "The data came to us as relation tables for intakes and outcomes. It went from ~16MB of memory to ~14MB of memory with some dedup, merge, cleaning. Then we engineered some features.\n",
    "\n",
    "It's back over 18MB, but to be fair we didn't delete some redundant/unnecessary columns.\n",
    "\n",
    "# How should we break this down for storage?"
   ]
  },
  {
   "cell_type": "markdown",
   "id": "8e42faca",
   "metadata": {},
   "source": [
    "List the things:\n",
    "* delete 'age_upon_intake'..."
   ]
  },
  {
   "cell_type": "markdown",
   "id": "8c83ad66",
   "metadata": {},
   "source": [
    "# For Funsies\n",
    "\n",
    "In teams of 2, let's work some analysis problems and then visualize them.\n",
    "\n",
    "1. What is the average stay duration by animal type?\n",
    "2. What is the average stay duration by age for dogs and cats?\n",
    "3. What is the average stay duration by 5 most common dog breeds?\n",
    "3. What is the most common outcome by age class?\n",
    "\n",
    "[pandas docs: visualization](https://pandas.pydata.org/pandas-docs/stable/user_guide/visualization.html?highlight=str%20split)"
   ]
  }
 ],
 "metadata": {
  "kernelspec": {
   "display_name": "Python 3 (ipykernel)",
   "language": "python",
   "name": "python3"
  },
  "language_info": {
   "codemirror_mode": {
    "name": "ipython",
    "version": 3
   },
   "file_extension": ".py",
   "mimetype": "text/x-python",
   "name": "python",
   "nbconvert_exporter": "python",
   "pygments_lexer": "ipython3",
   "version": "3.9.12"
  }
 },
 "nbformat": 4,
 "nbformat_minor": 5
}
