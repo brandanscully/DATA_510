{
 "cells": [
  {
   "cell_type": "markdown",
   "id": "8f7103a0",
   "metadata": {
    "slideshow": {
     "slide_type": "slide"
    }
   },
   "source": [
    "# Python Fundamentals"
   ]
  },
  {
   "cell_type": "code",
   "execution_count": 58,
   "id": "671dc64d",
   "metadata": {
    "slideshow": {
     "slide_type": "slide"
    }
   },
   "outputs": [
    {
     "name": "stdout",
     "output_type": "stream",
     "text": [
      "The Zen of Python, by Tim Peters\n",
      "\n",
      "Beautiful is better than ugly.\n",
      "Explicit is better than implicit.\n",
      "Simple is better than complex.\n",
      "Complex is better than complicated.\n",
      "Flat is better than nested.\n",
      "Sparse is better than dense.\n",
      "Readability counts.\n",
      "Special cases aren't special enough to break the rules.\n",
      "Although practicality beats purity.\n",
      "Errors should never pass silently.\n",
      "Unless explicitly silenced.\n",
      "In the face of ambiguity, refuse the temptation to guess.\n",
      "There should be one-- and preferably only one --obvious way to do it.\n",
      "Although that way may not be obvious at first unless you're Dutch.\n",
      "Now is better than never.\n",
      "Although never is often better than *right* now.\n",
      "If the implementation is hard to explain, it's a bad idea.\n",
      "If the implementation is easy to explain, it may be a good idea.\n",
      "Namespaces are one honking great idea -- let's do more of those!\n"
     ]
    }
   ],
   "source": [
    "import this"
   ]
  },
  {
   "cell_type": "markdown",
   "id": "682c687c",
   "metadata": {
    "slideshow": {
     "slide_type": "slide"
    }
   },
   "source": [
    "# Python Data Types\n",
    "\n",
    "* Text: str\n",
    "* Numeric: int, float, complex\n",
    "* Boolean: bool\n",
    "* Null: NoneType\n",
    "* Sequence: list, tuple, range\n",
    "* Set: set, frozenset\n",
    "* Mapping: dict\n",
    "* Binary: bytes, bytearray, memoryview"
   ]
  },
  {
   "cell_type": "code",
   "execution_count": 56,
   "id": "c19b6eaa",
   "metadata": {
    "slideshow": {
     "slide_type": "subslide"
    }
   },
   "outputs": [
    {
     "name": "stdout",
     "output_type": "stream",
     "text": [
      "<class 'int'>\n",
      "<class 'float'>\n",
      "<class 'str'>\n",
      "<class 'bool'>\n",
      "<class 'NoneType'>\n"
     ]
    }
   ],
   "source": [
    "for i in [1,1.0,\"1.0\",True, None]: # This is a for loop\n",
    "    print(type(i))"
   ]
  },
  {
   "cell_type": "code",
   "execution_count": 38,
   "id": "3b881061",
   "metadata": {
    "slideshow": {
     "slide_type": "subslide"
    }
   },
   "outputs": [
    {
     "name": "stdout",
     "output_type": "stream",
     "text": [
      "<class 'tuple'>\n",
      "<class 'list'>\n",
      "<class 'range'>\n",
      "<class 'set'>\n",
      "<class 'dict'>\n"
     ]
    }
   ],
   "source": [
    "for i in [(1,0),[1,0],range(1),{1,0}, dict({0:1})]:\n",
    "    print(type(i))"
   ]
  },
  {
   "cell_type": "markdown",
   "id": "0f6004f7",
   "metadata": {
    "slideshow": {
     "slide_type": "slide"
    }
   },
   "source": [
    "# Identifiers\n",
    "\n",
    "Name variables in python with the format var = value\n",
    "\n",
    "Named objects in python start with \"_\" or a letter.\n",
    "\n",
    "six_var is a valid object name\n",
    "\n",
    "_6var is a valid object name\n",
    "\n",
    "6_var is not"
   ]
  },
  {
   "cell_type": "code",
   "execution_count": 24,
   "id": "e1c98e82",
   "metadata": {
    "slideshow": {
     "slide_type": "subslide"
    }
   },
   "outputs": [
    {
     "name": "stdout",
     "output_type": "stream",
     "text": [
      "6\n"
     ]
    }
   ],
   "source": [
    "_6var =6\n",
    "print(_6var)"
   ]
  },
  {
   "cell_type": "code",
   "execution_count": 25,
   "id": "67d49ab4",
   "metadata": {
    "slideshow": {
     "slide_type": "subslide"
    }
   },
   "outputs": [
    {
     "ename": "SyntaxError",
     "evalue": "invalid decimal literal (935359935.py, line 1)",
     "output_type": "error",
     "traceback": [
      "\u001b[0;36m  Input \u001b[0;32mIn [25]\u001b[0;36m\u001b[0m\n\u001b[0;31m    6_var = 6\u001b[0m\n\u001b[0m     ^\u001b[0m\n\u001b[0;31mSyntaxError\u001b[0m\u001b[0;31m:\u001b[0m invalid decimal literal\n"
     ]
    }
   ],
   "source": [
    "6_var = 6\n",
    "print(6_var)"
   ]
  },
  {
   "cell_type": "markdown",
   "id": "425f646b",
   "metadata": {
    "slideshow": {
     "slide_type": "slide"
    }
   },
   "source": [
    "# Python has keywords\n",
    "\n",
    "don't use them to name things"
   ]
  },
  {
   "cell_type": "code",
   "execution_count": 26,
   "id": "5fc51592",
   "metadata": {
    "slideshow": {
     "slide_type": "subslide"
    }
   },
   "outputs": [
    {
     "name": "stdout",
     "output_type": "stream",
     "text": [
      "['False', 'None', 'True', '__peg_parser__', 'and', 'as', 'assert', 'async', 'await', 'break', 'class', 'continue', 'def', 'del', 'elif', 'else', 'except', 'finally', 'for', 'from', 'global', 'if', 'import', 'in', 'is', 'lambda', 'nonlocal', 'not', 'or', 'pass', 'raise', 'return', 'try', 'while', 'with', 'yield']\n"
     ]
    }
   ],
   "source": [
    "import keyword\n",
    "print(keyword.kwlist)"
   ]
  },
  {
   "cell_type": "markdown",
   "id": "73e2088f",
   "metadata": {
    "slideshow": {
     "slide_type": "slide"
    }
   },
   "source": [
    "# Python syntax: Whitespace\n",
    "\n",
    "Python uses four whitespaces to delineate code structure\n",
    "\n",
    "* Code blocks start on the left.\n",
    "* Code lines end without punctuation (except when defining loops/functions)\n",
    "* Use 4 whitespaces within code blocks."
   ]
  },
  {
   "cell_type": "markdown",
   "id": "1d8ac5dc",
   "metadata": {
    "slideshow": {
     "slide_type": "slide"
    }
   },
   "source": [
    "# Python syntax: Comments\n",
    "\n",
    "Use __#__ for _block_ and _inline_ comments.\n",
    "\n",
    "Use a __\"\"\" \"\"\"__ for _multiline_ comments."
   ]
  },
  {
   "cell_type": "markdown",
   "id": "87e07403",
   "metadata": {
    "slideshow": {
     "slide_type": "slide"
    }
   },
   "source": [
    "# Strings\n",
    "\n",
    "Python recognizes three kinds of string definition using quotes. \n",
    "\n",
    "Always match quotes, often this is automatic.\n",
    "\n",
    "single quote: __' '__\n",
    "\n",
    "double quote: __\" \"__\n",
    "\n",
    "triple double quote: __\"\"\" \"\"\"__"
   ]
  },
  {
   "cell_type": "code",
   "execution_count": 207,
   "id": "5c4981d4",
   "metadata": {
    "slideshow": {
     "slide_type": "subslide"
    }
   },
   "outputs": [
    {
     "name": "stdout",
     "output_type": "stream",
     "text": [
      "a string is a thing to behold!\n"
     ]
    }
   ],
   "source": [
    "astring = 'a string' # I am an inline comment\n",
    "isathing = \"is a thing\"\n",
    "tobehold = \"\"\"to behold!\"\"\"\n",
    "\n",
    "print(astring, isathing, tobehold)"
   ]
  },
  {
   "cell_type": "code",
   "execution_count": 170,
   "id": "843b49e2",
   "metadata": {
    "slideshow": {
     "slide_type": "subslide"
    }
   },
   "outputs": [
    {
     "ename": "SyntaxError",
     "evalue": "EOL while scanning string literal (2543934472.py, line 2)",
     "output_type": "error",
     "traceback": [
      "\u001b[0;36m  Input \u001b[0;32mIn [170]\u001b[0;36m\u001b[0m\n\u001b[0;31m    astring = 'a\u001b[0m\n\u001b[0m                 ^\u001b[0m\n\u001b[0;31mSyntaxError\u001b[0m\u001b[0;31m:\u001b[0m EOL while scanning string literal\n"
     ]
    }
   ],
   "source": [
    "# this won't work\n",
    "astring = 'a \n",
    "    string'"
   ]
  },
  {
   "cell_type": "code",
   "execution_count": 185,
   "id": "28050350",
   "metadata": {
    "slideshow": {
     "slide_type": "subslide"
    }
   },
   "outputs": [
    {
     "data": {
      "text/plain": [
       "'a     string'"
      ]
     },
     "execution_count": 185,
     "metadata": {},
     "output_type": "execute_result"
    }
   ],
   "source": [
    "#we need an escape character for multiline text using single or double quotes\n",
    "astring = 'a \\\n",
    "    string'\n",
    "astring # don't do this"
   ]
  },
  {
   "cell_type": "code",
   "execution_count": 172,
   "id": "7dd52af6",
   "metadata": {
    "slideshow": {
     "slide_type": "subslide"
    }
   },
   "outputs": [
    {
     "data": {
      "text/plain": [
       "'to \\n    behold!'"
      ]
     },
     "execution_count": 172,
     "metadata": {},
     "output_type": "execute_result"
    }
   ],
   "source": [
    "\"\"\"the triple double quote is used for docstrings and works on one\n",
    "or separate lines but also allows multi-line text to be held in a variable\"\"\"\n",
    "\n",
    "tobehold = \"\"\"to \n",
    "    behold!\"\"\"\n",
    "tobehold"
   ]
  },
  {
   "cell_type": "code",
   "execution_count": 176,
   "id": "32d865df",
   "metadata": {
    "slideshow": {
     "slide_type": "subslide"
    }
   },
   "outputs": [
    {
     "name": "stdout",
     "output_type": "stream",
     "text": [
      "to \n",
      "    behold!\n"
     ]
    }
   ],
   "source": [
    "# print ignores the newline character \n",
    "print(tobehold)"
   ]
  },
  {
   "cell_type": "markdown",
   "id": "47c69bd2",
   "metadata": {
    "slideshow": {
     "slide_type": "slide"
    }
   },
   "source": [
    "# About that escape character...\n",
    "\n",
    "a \\ can be used to continue on multiple lines,\n",
    "\n",
    "or to ignore something."
   ]
  },
  {
   "cell_type": "code",
   "execution_count": 190,
   "id": "759c0752",
   "metadata": {
    "slideshow": {
     "slide_type": "subslide"
    }
   },
   "outputs": [
    {
     "ename": "SyntaxError",
     "evalue": "invalid syntax (4260612961.py, line 1)",
     "output_type": "error",
     "traceback": [
      "\u001b[0;36m  Input \u001b[0;32mIn [190]\u001b[0;36m\u001b[0m\n\u001b[0;31m    badApostrophe = 'It's fine' # nope, not fine\u001b[0m\n\u001b[0m                        ^\u001b[0m\n\u001b[0;31mSyntaxError\u001b[0m\u001b[0;31m:\u001b[0m invalid syntax\n"
     ]
    }
   ],
   "source": [
    "badApostrophe = 'It's fine' # nope, not fine"
   ]
  },
  {
   "cell_type": "code",
   "execution_count": 191,
   "id": "ee8f3c2d",
   "metadata": {
    "slideshow": {
     "slide_type": "subslide"
    }
   },
   "outputs": [
    {
     "data": {
      "text/plain": [
       "\"It's fine\""
      ]
     },
     "execution_count": 191,
     "metadata": {},
     "output_type": "execute_result"
    }
   ],
   "source": [
    "goodApostrophe = 'It\\'s fine' #totally fine\n",
    "goodApostrophe"
   ]
  },
  {
   "cell_type": "code",
   "execution_count": 195,
   "id": "c0d3f9d8",
   "metadata": {
    "slideshow": {
     "slide_type": "subslide"
    }
   },
   "outputs": [
    {
     "ename": "SyntaxError",
     "evalue": "(unicode error) 'unicodeescape' codec can't decode bytes in position 0-1: truncated \\UXXXXXXXX escape (2716227525.py, line 2)",
     "output_type": "error",
     "traceback": [
      "\u001b[0;36m  Input \u001b[0;32mIn [195]\u001b[0;36m\u001b[0m\n\u001b[0;31m    badPathstring = '\\Users\\brandanscully\\Documents\\DATA_510_DRAFT' #windows likes escape characters in path strings\u001b[0m\n\u001b[0m                                                                    ^\u001b[0m\n\u001b[0;31mSyntaxError\u001b[0m\u001b[0;31m:\u001b[0m (unicode error) 'unicodeescape' codec can't decode bytes in position 0-1: truncated \\UXXXXXXXX escape\n"
     ]
    }
   ],
   "source": [
    "#what about a path string!?\n",
    "badPathstring = '\\Users\\brandanscully\\Documents\\DATA_510_DRAFT' #windows likes escape characters in path strings\n",
    "badPathstring "
   ]
  },
  {
   "cell_type": "code",
   "execution_count": 203,
   "id": "0ecb8e5d",
   "metadata": {
    "slideshow": {
     "slide_type": "subslide"
    }
   },
   "outputs": [
    {
     "data": {
      "text/plain": [
       "'/Users/brandanscully/Documents/DATA_510_DRAFT'"
      ]
     },
     "execution_count": 203,
     "metadata": {},
     "output_type": "execute_result"
    }
   ],
   "source": [
    "pathString1='/Users/brandanscully/Documents/DATA_510_DRAFT' # reverse the backslashes\n",
    "\n",
    "pathString1"
   ]
  },
  {
   "cell_type": "code",
   "execution_count": 204,
   "id": "4d86f02d",
   "metadata": {
    "slideshow": {
     "slide_type": "subslide"
    }
   },
   "outputs": [
    {
     "data": {
      "text/plain": [
       "'\\\\Users\\\\brandanscully\\\\Documents\\\\DATA_510_DRAFT'"
      ]
     },
     "execution_count": 204,
     "metadata": {},
     "output_type": "execute_result"
    }
   ],
   "source": [
    "pathString2= r'\\Users\\brandanscully\\Documents\\DATA_510_DRAFT' #use raw strings\n",
    "\n",
    "pathString2"
   ]
  },
  {
   "cell_type": "code",
   "execution_count": 208,
   "id": "434d45b5",
   "metadata": {
    "slideshow": {
     "slide_type": "subslide"
    }
   },
   "outputs": [
    {
     "data": {
      "text/plain": [
       "'a stringis a thingto behold!'"
      ]
     },
     "execution_count": 208,
     "metadata": {},
     "output_type": "execute_result"
    }
   ],
   "source": [
    "def badpoem():\n",
    "    \"\"\"docstrings are great \n",
    "    for provding multi line\n",
    "    comments, e.g. to describe what your function is doing\"\"\"\n",
    "    astring = 'a string'\n",
    "    isathing = \"is a thing\"\n",
    "    tobehold = \"\"\"to behold!\"\"\"\n",
    "    return astring + isathing + tobehold #<- this is string concatenation\n",
    "\n",
    "badpoem()"
   ]
  },
  {
   "cell_type": "markdown",
   "id": "5bd3019a",
   "metadata": {
    "slideshow": {
     "slide_type": "slide"
    }
   },
   "source": [
    "# Compare Behaviors \n",
    "\n",
    "print(astring, isathing, tobehold):   __a string is a thing to behold!__\n",
    "\n",
    "gets proper spacing and no quotes\n",
    "\n",
    "return astring + isathing + tobehold: __'a stringis a thingto behold!'__\n",
    "\n",
    "gets literal spacing and quotes"
   ]
  },
  {
   "cell_type": "markdown",
   "id": "48fb3ac9",
   "metadata": {
    "slideshow": {
     "slide_type": "slide"
    }
   },
   "source": [
    "# A string is a sequnce of characters\n",
    "\n",
    "You can access string characters using their index"
   ]
  },
  {
   "cell_type": "code",
   "execution_count": 211,
   "id": "ba67992d",
   "metadata": {
    "slideshow": {
     "slide_type": "subslide"
    }
   },
   "outputs": [
    {
     "name": "stdout",
     "output_type": "stream",
     "text": [
      "D\n",
      "!\n"
     ]
    }
   ],
   "source": [
    "someString = \"Data are great!\"\n",
    "\n",
    "print(someString[0]) # string index starts at 0 and increases from left to right\n",
    "print(someString[-1]) # string index can be accessed from right to left with -"
   ]
  },
  {
   "cell_type": "code",
   "execution_count": 218,
   "id": "5f7ce73b",
   "metadata": {
    "slideshow": {
     "slide_type": "subslide"
    }
   },
   "outputs": [
    {
     "data": {
      "text/plain": [
       "15"
      ]
     },
     "execution_count": 218,
     "metadata": {},
     "output_type": "execute_result"
    }
   ],
   "source": [
    "# find the length of a string using len()\n",
    "len(someString)"
   ]
  },
  {
   "cell_type": "code",
   "execution_count": 219,
   "id": "a1f6c892",
   "metadata": {
    "slideshow": {
     "slide_type": "subslide"
    }
   },
   "outputs": [
    {
     "name": "stdout",
     "output_type": "stream",
     "text": [
      "0 D\n",
      "1 a\n",
      "2 t\n",
      "3 a\n",
      "4  \n",
      "5 a\n",
      "6 r\n",
      "7 e\n",
      "8  \n",
      "9 g\n",
      "10 r\n",
      "11 e\n",
      "12 a\n",
      "13 t\n",
      "14 !\n"
     ]
    }
   ],
   "source": [
    "for i,n in enumerate(someString):\n",
    "    print(i,n)"
   ]
  },
  {
   "cell_type": "code",
   "execution_count": 222,
   "id": "132dfa66",
   "metadata": {
    "slideshow": {
     "slide_type": "subslide"
    }
   },
   "outputs": [
    {
     "name": "stdout",
     "output_type": "stream",
     "text": [
      "great!\n"
     ]
    }
   ],
   "source": [
    "\"\"\"slice a string, \n",
    "notice slice includes the first index and excludes the final index\"\"\"\n",
    "print(someString[9:15])"
   ]
  },
  {
   "cell_type": "code",
   "execution_count": 224,
   "id": "27b98a13",
   "metadata": {
    "slideshow": {
     "slide_type": "subslide"
    }
   },
   "outputs": [
    {
     "name": "stdout",
     "output_type": "stream",
     "text": [
      "Data\n"
     ]
    }
   ],
   "source": [
    "# the start index defaults to 0\n",
    "print(someString[:4])"
   ]
  },
  {
   "cell_type": "code",
   "execution_count": 225,
   "id": "7ee1f6e4",
   "metadata": {
    "slideshow": {
     "slide_type": "subslide"
    }
   },
   "outputs": [
    {
     "name": "stdout",
     "output_type": "stream",
     "text": [
      "Data are great! Seriously!\n"
     ]
    }
   ],
   "source": [
    "# you already saw concatenation\n",
    "print(someString + ' Seriously!')"
   ]
  },
  {
   "cell_type": "code",
   "execution_count": 230,
   "id": "820c5462",
   "metadata": {
    "slideshow": {
     "slide_type": "subslide"
    }
   },
   "outputs": [
    {
     "data": {
      "text/plain": [
       "'myFile.csv'"
      ]
     },
     "execution_count": 230,
     "metadata": {},
     "output_type": "execute_result"
    }
   ],
   "source": [
    "# you may find this to be handy IN THE FUTURE.\n",
    "fileName = \"myFile.txt\"\n",
    "newFile = fileName[:-4]+'.csv'\n",
    "\n",
    "newFile"
   ]
  },
  {
   "cell_type": "markdown",
   "id": "56e7fb66",
   "metadata": {
    "slideshow": {
     "slide_type": "slide"
    }
   },
   "source": [
    "# Numbers\n",
    "\n",
    "Integers are whole numbers.\n",
    "\n",
    "Float has decimals.\n",
    "\n",
    "You can use _ in numbers for readability"
   ]
  },
  {
   "cell_type": "code",
   "execution_count": 232,
   "id": "3cef33ea",
   "metadata": {
    "slideshow": {
     "slide_type": "subslide"
    }
   },
   "outputs": [
    {
     "data": {
      "text/plain": [
       "10000000.0"
      ]
     },
     "execution_count": 232,
     "metadata": {},
     "output_type": "execute_result"
    }
   ],
   "source": [
    "10_000_000.00"
   ]
  },
  {
   "cell_type": "markdown",
   "id": "a11d044d",
   "metadata": {
    "slideshow": {
     "slide_type": "slide"
    }
   },
   "source": [
    "# Converting Types\n",
    "\n",
    "Sometimes you may want something to be in a format it's not."
   ]
  },
  {
   "cell_type": "code",
   "execution_count": 233,
   "id": "8fff1b55",
   "metadata": {
    "slideshow": {
     "slide_type": "subslide"
    }
   },
   "outputs": [
    {
     "data": {
      "text/plain": [
       "10000000"
      ]
     },
     "execution_count": 233,
     "metadata": {},
     "output_type": "execute_result"
    }
   ],
   "source": [
    "int(10_000_000.00)"
   ]
  },
  {
   "cell_type": "code",
   "execution_count": 234,
   "id": "9c61ac8e",
   "metadata": {
    "slideshow": {
     "slide_type": "subslide"
    }
   },
   "outputs": [
    {
     "data": {
      "text/plain": [
       "'10000000.0'"
      ]
     },
     "execution_count": 234,
     "metadata": {},
     "output_type": "execute_result"
    }
   ],
   "source": [
    "str(10_000_000.00)"
   ]
  },
  {
   "cell_type": "code",
   "execution_count": 238,
   "id": "91d96b3e",
   "metadata": {
    "slideshow": {
     "slide_type": "subslide"
    }
   },
   "outputs": [
    {
     "data": {
      "text/plain": [
       "10000000.0"
      ]
     },
     "execution_count": 238,
     "metadata": {},
     "output_type": "execute_result"
    }
   ],
   "source": [
    "float(str(10_000_000))"
   ]
  },
  {
   "cell_type": "markdown",
   "id": "246a7b9e",
   "metadata": {
    "slideshow": {
     "slide_type": "slide"
    }
   },
   "source": [
    "# Arithmetic Operators\n",
    "\n",
    "* Add: +\n",
    "  \n",
    "  3 + 4\n",
    "\n",
    "* Subtract: -\n",
    "  \n",
    "  4 - 3\n",
    "\n",
    "* Multiply: *\n",
    "  \n",
    "  3 * 4\n",
    "\n",
    "* Divide: /\n",
    "  \n",
    "  4 / 3      (_division always returns a float_)"
   ]
  },
  {
   "cell_type": "markdown",
   "id": "14c6bd95",
   "metadata": {
    "slideshow": {
     "slide_type": "slide"
    }
   },
   "source": [
    "# Arithmetic Operators\n",
    "\n",
    "* Exponent: **\n",
    "\n",
    "  3 ** 4\n",
    "  \n",
    "* Modulo: %\n",
    "\n",
    "  3 % 4\n",
    "  \n",
    "* Div: //\n",
    "\n",
    "  4 // 3"
   ]
  },
  {
   "cell_type": "code",
   "execution_count": 50,
   "id": "62716ce4",
   "metadata": {
    "slideshow": {
     "slide_type": "subslide"
    }
   },
   "outputs": [
    {
     "data": {
      "text/plain": [
       "81"
      ]
     },
     "execution_count": 50,
     "metadata": {},
     "output_type": "execute_result"
    }
   ],
   "source": [
    "3 ** 4"
   ]
  },
  {
   "cell_type": "code",
   "execution_count": 43,
   "id": "09b89fe4",
   "metadata": {
    "slideshow": {
     "slide_type": "subslide"
    }
   },
   "outputs": [
    {
     "data": {
      "text/plain": [
       "1"
      ]
     },
     "execution_count": 43,
     "metadata": {},
     "output_type": "execute_result"
    }
   ],
   "source": [
    "7 % 3 # modulo returns the remainder of division"
   ]
  },
  {
   "cell_type": "code",
   "execution_count": 44,
   "id": "900e23c8",
   "metadata": {
    "slideshow": {
     "slide_type": "subslide"
    }
   },
   "outputs": [
    {
     "data": {
      "text/plain": [
       "2"
      ]
     },
     "execution_count": 44,
     "metadata": {},
     "output_type": "execute_result"
    }
   ],
   "source": [
    "7//3 # div returns floor (n/d)"
   ]
  },
  {
   "cell_type": "markdown",
   "id": "136bb829",
   "metadata": {
    "slideshow": {
     "slide_type": "slide"
    }
   },
   "source": [
    "# Mind data types with arithmetic operators\n",
    "\n",
    "Python with modify the output data type when mixing float and int.\n",
    "\n",
    "Division always returns a float."
   ]
  },
  {
   "cell_type": "code",
   "execution_count": 48,
   "id": "ad9fd248",
   "metadata": {
    "slideshow": {
     "slide_type": "subslide"
    }
   },
   "outputs": [
    {
     "data": {
      "text/plain": [
       "10"
      ]
     },
     "execution_count": 48,
     "metadata": {},
     "output_type": "execute_result"
    }
   ],
   "source": [
    "1 * 10"
   ]
  },
  {
   "cell_type": "code",
   "execution_count": 47,
   "id": "75fb4b8e",
   "metadata": {
    "slideshow": {
     "slide_type": "subslide"
    }
   },
   "outputs": [
    {
     "data": {
      "text/plain": [
       "10.0"
      ]
     },
     "execution_count": 47,
     "metadata": {},
     "output_type": "execute_result"
    }
   ],
   "source": [
    "1.0 *10.0"
   ]
  },
  {
   "cell_type": "code",
   "execution_count": 49,
   "id": "f7f60d69",
   "metadata": {
    "slideshow": {
     "slide_type": "subslide"
    }
   },
   "outputs": [
    {
     "data": {
      "text/plain": [
       "10.0"
      ]
     },
     "execution_count": 49,
     "metadata": {},
     "output_type": "execute_result"
    }
   ],
   "source": [
    "1.0 * 10"
   ]
  },
  {
   "cell_type": "markdown",
   "id": "950cc042",
   "metadata": {
    "slideshow": {
     "slide_type": "slide"
    }
   },
   "source": [
    "# Comparison Operators\n",
    "\n",
    "These return boolean types\n",
    "\n",
    "* Less than: <\n",
    "* Less than or equal to: <=\n",
    "* Greater than: >\n",
    "* Greater than or equal to: >=\n",
    "* Equal to: ==\n",
    "* Not equal to: != (\"bang equals\")"
   ]
  },
  {
   "cell_type": "markdown",
   "id": "e05d1e44",
   "metadata": {
    "slideshow": {
     "slide_type": "slide"
    }
   },
   "source": [
    "# Logical Operators\n",
    "\n",
    "* and\n",
    "* or\n",
    "* not"
   ]
  },
  {
   "cell_type": "markdown",
   "id": "83591068",
   "metadata": {
    "slideshow": {
     "slide_type": "slide"
    }
   },
   "source": [
    "# Flow Control: For\n",
    "\n",
    "__for__ var __in__ interable:\n",
    "\n",
    "    do something"
   ]
  },
  {
   "cell_type": "markdown",
   "id": "558becff",
   "metadata": {
    "slideshow": {
     "slide_type": "slide"
    }
   },
   "source": [
    "# Flow Control: If...else...elif\n",
    "\n",
    "__if__ if-condition:\n",
    "\n",
    "    do something\n",
    "    \n",
    "__elif__ elif-condition:\n",
    "\n",
    "    do something else\n",
    "    \n",
    "__else__:\n",
    "\n",
    "    do something completely different"
   ]
  },
  {
   "cell_type": "markdown",
   "id": "0d497683",
   "metadata": {
    "slideshow": {
     "slide_type": "slide"
    }
   },
   "source": [
    "# Flow Control: Ternary Operator\n",
    "\n",
    "true_value __if__ condition __else__ false_value\n",
    "\n",
    "It's a streamlined if else statement."
   ]
  },
  {
   "cell_type": "code",
   "execution_count": 92,
   "id": "236da81c",
   "metadata": {
    "slideshow": {
     "slide_type": "subslide"
    }
   },
   "outputs": [
    {
     "data": {
      "text/plain": [
       "'same'"
      ]
     },
     "execution_count": 92,
     "metadata": {},
     "output_type": "execute_result"
    }
   ],
   "source": [
    "\"same\" if \"x\"==\"x\" else \"different\""
   ]
  },
  {
   "cell_type": "markdown",
   "id": "af855773",
   "metadata": {
    "slideshow": {
     "slide_type": "slide"
    }
   },
   "source": [
    "# Flow Control: While\n",
    "\n",
    "__while__ true_condition:\n",
    "\n",
    "    do something"
   ]
  },
  {
   "cell_type": "markdown",
   "id": "06a6cee4",
   "metadata": {
    "slideshow": {
     "slide_type": "slide"
    }
   },
   "source": [
    "# Flow Control: break, continue, pass\n",
    "\n",
    "these are helpful tools that can be used for iterative development.\n",
    "\n",
    "__break__: typically used in an if statement to leave a loop when a condition is met\n",
    "\n",
    "if condition:\n",
    "\n",
    "    do something\n",
    "    \n",
    "else:\n",
    "    \n",
    "    break # the loop stops"
   ]
  },
  {
   "cell_type": "markdown",
   "id": "9dacb95f",
   "metadata": {
    "slideshow": {
     "slide_type": "slide"
    }
   },
   "source": [
    "# Flow Control: continue\n",
    "\n",
    "__continue__: use this to skip a current iteration when a condition is met\n",
    "\n",
    "\n",
    "while condition:\n",
    "\n",
    "    do something\n",
    "\n",
    "    if newCondition:\n",
    "    \n",
    "        continue # the current iteration is skipped"
   ]
  },
  {
   "cell_type": "markdown",
   "id": "5a6822f7",
   "metadata": {
    "slideshow": {
     "slide_type": "slide"
    }
   },
   "source": [
    "# Flow Control: pass\n",
    "\n",
    "__pass__: it does nothing! but it avoids a syntax error. use it as a placeholder \n",
    "\n",
    "if condition:\n",
    "\n",
    "    do something\n",
    "    \n",
    "else:\n",
    "\n",
    "    pass # nothing happens"
   ]
  },
  {
   "cell_type": "markdown",
   "id": "4ebe108f",
   "metadata": {
    "slideshow": {
     "slide_type": "slide"
    }
   },
   "source": [
    "# FUNctions ;)\n",
    "\n",
    "Pythonic programming uses modularity.\n",
    "\n",
    "Functions are reusable pieces of code.\n",
    "\n",
    "__def__ newFUNction():\n",
    "\n",
    "    \"\"\"This is a docstring. Use it to describe your function!\"\"\"\n",
    "    \n",
    "    var = do something\n",
    "    \n",
    "    return var # if you want to pass the output of your function to global"
   ]
  },
  {
   "cell_type": "code",
   "execution_count": 303,
   "id": "f60b09e5",
   "metadata": {
    "slideshow": {
     "slide_type": "subslide"
    }
   },
   "outputs": [
    {
     "data": {
      "text/plain": [
       "'do something'"
      ]
     },
     "execution_count": 303,
     "metadata": {},
     "output_type": "execute_result"
    }
   ],
   "source": [
    "def newFUNction():\n",
    "\n",
    "    \"\"\"This is a docstring. Use it to describe your function!\"\"\"\n",
    "    \n",
    "    var = \"do something\"\n",
    "    \n",
    "    return var # if you want to pass the output of your function to global\n",
    "\n",
    "newFUNction()"
   ]
  },
  {
   "cell_type": "markdown",
   "id": "684fabc9",
   "metadata": {
    "slideshow": {
     "slide_type": "slide"
    }
   },
   "source": [
    "# Functions: parameters & default parameters\n",
    "\n",
    "You can supply your functions with parameters and default parameters.\n",
    "\n",
    "__def__ _add5orsomething_( _param_, _defParam_ = 5):\n",
    "    \n",
    "    return param+defParam\n",
    "    \n",
    "add5orsomething(10)"
   ]
  },
  {
   "cell_type": "code",
   "execution_count": 64,
   "id": "2546cacb",
   "metadata": {
    "slideshow": {
     "slide_type": "subslide"
    }
   },
   "outputs": [
    {
     "name": "stdout",
     "output_type": "stream",
     "text": [
      "15\n",
      "20\n"
     ]
    }
   ],
   "source": [
    "def add5orsomething(param, defParam=5):\n",
    "    return param+defParam\n",
    "\n",
    "print(add5orsomething(10)) # the function takes a parameter and adds the default parameter\n",
    "print(add5orsomething(10,10)) #th function takes a parameter and adds the parameter that replaces default"
   ]
  },
  {
   "cell_type": "markdown",
   "id": "58d407f0",
   "metadata": {
    "slideshow": {
     "slide_type": "slide"
    }
   },
   "source": [
    "# Functions: Keyword Arguments\n",
    "\n",
    "You can supply your functions with multiple default parameters that you can choose or not.\n",
    "\n",
    "__def__ _crazyMath_( _param_, _defParam1_ = 5, _defParam2_ = .07):\n",
    "    \n",
    "    return param + (defParam1 *defParam2)\n",
    "    \n",
    "crazyMath(10)"
   ]
  },
  {
   "cell_type": "code",
   "execution_count": 69,
   "id": "110a4fa6",
   "metadata": {
    "slideshow": {
     "slide_type": "subslide"
    }
   },
   "outputs": [
    {
     "name": "stdout",
     "output_type": "stream",
     "text": [
      "10.35\n",
      "10.4\n",
      "10.0056\n",
      "10.4\n"
     ]
    }
   ],
   "source": [
    "def crazyMath(param, defParam1 = 5, defParam2 = 0.07):\n",
    "    \n",
    "    return param + (defParam1 * defParam2)\n",
    "    \n",
    "print(crazyMath(10)) # this is fine\n",
    "print(crazyMath(10, 5, .08)) # also fine\n",
    "print(crazyMath(10,.08)) # we have now used .08 in the defParam1 space\n",
    "print(crazyMath(10,defParam2=0.08)) #now we're using 0.08 in defParam2, instead of 0.07"
   ]
  },
  {
   "cell_type": "markdown",
   "id": "7204ff13",
   "metadata": {
    "slideshow": {
     "slide_type": "slide"
    }
   },
   "source": [
    "# Functions: Lambda Expressions\n",
    "\n",
    "Lambda expressions are anonymous functions. These are helpful for passing functions.\n",
    "\n",
    "__lambda__ _parameter_: _expression_\n",
    "\n",
    "is equivalent to\n",
    "\n",
    "__def__ _someFunction_(_parameter_):\n",
    "\n",
    "    reutrn expression\n",
    "    \n",
    "We'll come back to this."
   ]
  },
  {
   "cell_type": "markdown",
   "id": "ea6c30cc",
   "metadata": {
    "slideshow": {
     "slide_type": "slide"
    }
   },
   "source": [
    "# Lists\n",
    "\n",
    "A list is a mutable ordered collection of items mapped to an index.\n",
    "\n",
    "this_list = [item1, item2, item3]"
   ]
  },
  {
   "cell_type": "code",
   "execution_count": 93,
   "id": "cd89ba00",
   "metadata": {
    "slideshow": {
     "slide_type": "subslide"
    }
   },
   "outputs": [
    {
     "name": "stdout",
     "output_type": "stream",
     "text": [
      "item1\n",
      "item2\n",
      "item3\n"
     ]
    }
   ],
   "source": [
    "# lists are iterable\n",
    "this_list=[\"item1\",\"item2\",\"item3\"]\n",
    "\n",
    "for i in this_list:\n",
    "    print(i)"
   ]
  },
  {
   "cell_type": "code",
   "execution_count": 82,
   "id": "82a74d28",
   "metadata": {
    "slideshow": {
     "slide_type": "subslide"
    }
   },
   "outputs": [
    {
     "name": "stdout",
     "output_type": "stream",
     "text": [
      "0\n",
      "item1\n",
      "1\n",
      "item2\n",
      "2\n",
      "item3\n"
     ]
    }
   ],
   "source": [
    "# list indexes start at 0\n",
    "\n",
    "this_list=[\"item1\",\"item2\",\"item3\"]\n",
    "\n",
    "for e,i in enumerate(this_list): # enumerate returns an index\n",
    "    print(e)\n",
    "    print(i)"
   ]
  },
  {
   "cell_type": "code",
   "execution_count": 94,
   "id": "b4eba1c1",
   "metadata": {
    "slideshow": {
     "slide_type": "subslide"
    }
   },
   "outputs": [
    {
     "data": {
      "text/plain": [
       "'item2'"
      ]
     },
     "execution_count": 94,
     "metadata": {},
     "output_type": "execute_result"
    }
   ],
   "source": [
    "# access list items using index\n",
    "\n",
    "this_list[1] "
   ]
  },
  {
   "cell_type": "code",
   "execution_count": 84,
   "id": "806353fb",
   "metadata": {
    "slideshow": {
     "slide_type": "subslide"
    }
   },
   "outputs": [
    {
     "name": "stdout",
     "output_type": "stream",
     "text": [
      "item1\n",
      "item2\n",
      "foo\n"
     ]
    }
   ],
   "source": [
    "# lists are mutable\n",
    "\n",
    "this_list[2] = 'foo'\n",
    "\n",
    "for i in this_list:\n",
    "    print(i)"
   ]
  },
  {
   "cell_type": "markdown",
   "id": "c632532f",
   "metadata": {
    "slideshow": {
     "slide_type": "slide"
    }
   },
   "source": [
    "# Tuples\n",
    "\n",
    "An \"n-tuple\" is an immutable ordered collection of n items mapped to an index.\n",
    "\n",
    "twoTuple = (item1,item2)\n",
    "threeTuple = (item1,item2,item3)"
   ]
  },
  {
   "cell_type": "code",
   "execution_count": 85,
   "id": "0258064b",
   "metadata": {
    "slideshow": {
     "slide_type": "subslide"
    }
   },
   "outputs": [
    {
     "name": "stdout",
     "output_type": "stream",
     "text": [
      "item1\n",
      "item2\n",
      "item3\n"
     ]
    }
   ],
   "source": [
    "# tuples are iterable\n",
    "this_tuple=(\"item1\",\"item2\",\"item3\")\n",
    "\n",
    "for i in this_tuple:\n",
    "    print(i)"
   ]
  },
  {
   "cell_type": "code",
   "execution_count": 86,
   "id": "4c297da0",
   "metadata": {
    "slideshow": {
     "slide_type": "subslide"
    }
   },
   "outputs": [
    {
     "data": {
      "text/plain": [
       "'item2'"
      ]
     },
     "execution_count": 86,
     "metadata": {},
     "output_type": "execute_result"
    }
   ],
   "source": [
    "# access tuple items using index\n",
    "\n",
    "this_tuple[1] "
   ]
  },
  {
   "cell_type": "code",
   "execution_count": 88,
   "id": "e34445a9",
   "metadata": {
    "slideshow": {
     "slide_type": "subslide"
    }
   },
   "outputs": [
    {
     "ename": "TypeError",
     "evalue": "'tuple' object does not support item assignment",
     "output_type": "error",
     "traceback": [
      "\u001b[0;31m---------------------------------------------------------------------------\u001b[0m",
      "\u001b[0;31mTypeError\u001b[0m                                 Traceback (most recent call last)",
      "Input \u001b[0;32mIn [88]\u001b[0m, in \u001b[0;36m<cell line: 3>\u001b[0;34m()\u001b[0m\n\u001b[1;32m      1\u001b[0m \u001b[38;5;66;03m# tuples are immutable\u001b[39;00m\n\u001b[0;32m----> 3\u001b[0m this_tuple[\u001b[38;5;241m2\u001b[39m] \u001b[38;5;241m=\u001b[39m \u001b[38;5;124m'\u001b[39m\u001b[38;5;124mfoo\u001b[39m\u001b[38;5;124m'\u001b[39m\n",
      "\u001b[0;31mTypeError\u001b[0m: 'tuple' object does not support item assignment"
     ]
    }
   ],
   "source": [
    "# tuples are immutable\n",
    "\n",
    "this_tuple[2] = 'foo'"
   ]
  },
  {
   "cell_type": "markdown",
   "id": "847c6f96",
   "metadata": {
    "slideshow": {
     "slide_type": "slide"
    }
   },
   "source": [
    "# Unpacking\n",
    "\n",
    "Python has a handy feature for unpacking lists and tuples\n",
    "\n",
    "var1, var2, var3 = this_list"
   ]
  },
  {
   "cell_type": "code",
   "execution_count": 90,
   "id": "20b8da8c",
   "metadata": {
    "slideshow": {
     "slide_type": "subslide"
    }
   },
   "outputs": [
    {
     "name": "stdout",
     "output_type": "stream",
     "text": [
      "item1 item1\n",
      "item2 item2\n",
      "foo item3\n"
     ]
    }
   ],
   "source": [
    "var1, var2, var3 = this_list\n",
    "var4, var5, var6 = this_tuple\n",
    "\n",
    "print(var1,var4)\n",
    "print(var2,var5)\n",
    "print(var3,var6)"
   ]
  },
  {
   "cell_type": "markdown",
   "id": "5491e7d9",
   "metadata": {
    "slideshow": {
     "slide_type": "slide"
    }
   },
   "source": [
    "# Mapping to a list\n",
    "\n",
    "you can apply a function to a list using __map( )__\n",
    "\n",
    "map(function: list)"
   ]
  },
  {
   "cell_type": "code",
   "execution_count": 97,
   "id": "2ca9d120",
   "metadata": {
    "slideshow": {
     "slide_type": "subslide"
    }
   },
   "outputs": [
    {
     "name": "stdout",
     "output_type": "stream",
     "text": [
      "[4, 10, 20]\n"
     ]
    }
   ],
   "source": [
    "list_to_double = [2,5,10]\n",
    "\n",
    "doubled_list = map(lambda todouble: todouble*2, list_to_double)\n",
    "\n",
    "print(list(doubled_list))"
   ]
  },
  {
   "cell_type": "markdown",
   "id": "8ec7163f",
   "metadata": {
    "slideshow": {
     "slide_type": "slide"
    }
   },
   "source": [
    "# Sorting a list\n",
    "\n",
    "use __.sort( )__ method to sort a list in ascending order in place."
   ]
  },
  {
   "cell_type": "code",
   "execution_count": 304,
   "id": "50a03bd8",
   "metadata": {
    "slideshow": {
     "slide_type": "subslide"
    }
   },
   "outputs": [
    {
     "name": "stdout",
     "output_type": "stream",
     "text": [
      "[0, 1, 2, 3, 4, 5, 6, 7, 8, 9]\n"
     ]
    }
   ],
   "source": [
    "numbers = [2,5,7,1,3,6,8,4,9,0]\n",
    "numbers.sort()\n",
    "print(numbers)"
   ]
  },
  {
   "cell_type": "code",
   "execution_count": 118,
   "id": "46f4eb21",
   "metadata": {
    "slideshow": {
     "slide_type": "subslide"
    }
   },
   "outputs": [
    {
     "name": "stdout",
     "output_type": "stream",
     "text": [
      "['a', 'b', 'c', 'd', 'e', 'f', 'g', 'h']\n"
     ]
    }
   ],
   "source": [
    "letters=['h','e','d','g','b','a','c','f']\n",
    "letters.sort()\n",
    "print(letters)"
   ]
  },
  {
   "cell_type": "code",
   "execution_count": 119,
   "id": "c0cd7e3c",
   "metadata": {
    "slideshow": {
     "slide_type": "subslide"
    }
   },
   "outputs": [
    {
     "name": "stdout",
     "output_type": "stream",
     "text": [
      "[0, 1, 2, 3, 4, 5, 6, 7, 8, 9]\n",
      "[9, 8, 7, 6, 5, 4, 3, 2, 1, 0]\n",
      "['h', 'g', 'f', 'e', 'd', 'c', 'b', 'a']\n"
     ]
    }
   ],
   "source": [
    "zero2nine = list(range(10))\n",
    "\n",
    "print(zero2nine)\n",
    "\n",
    "zero2nine.sort(reverse=True)\n",
    "\n",
    "print(zero2nine)\n",
    "\n",
    "letters.sort(reverse=True)\n",
    "\n",
    "print(letters)"
   ]
  },
  {
   "cell_type": "markdown",
   "id": "5296d1a8",
   "metadata": {
    "slideshow": {
     "slide_type": "slide"
    }
   },
   "source": [
    "# Dictionaries\n",
    "\n",
    "A dictionary is a mutable unordered collection of key:value pairs.\n",
    "\n",
    "{key1:value1, key2:value2}"
   ]
  },
  {
   "cell_type": "code",
   "execution_count": 120,
   "id": "40bbec48",
   "metadata": {
    "slideshow": {
     "slide_type": "subslide"
    }
   },
   "outputs": [
    {
     "data": {
      "text/plain": [
       "'Student'"
      ]
     },
     "execution_count": 120,
     "metadata": {},
     "output_type": "execute_result"
    }
   ],
   "source": [
    "class_dict = {\"Brandan\":\"Instructor\", \"Lydia\":\"Student\", \"David\":\"Student\",\n",
    "             \"Cayden\":\"Student\", \"Maddie\":\"Stuent\", \"Trevor\":\"Student\",\n",
    "             \"Giselle\":\"Student\", \"Sheldon\":\"Student\", \"Will\":\"Student\"}\n",
    "\n",
    "class_dict[\"Trevor\"]"
   ]
  },
  {
   "cell_type": "code",
   "execution_count": 125,
   "id": "2346f6a1",
   "metadata": {
    "slideshow": {
     "slide_type": "subslide"
    }
   },
   "outputs": [
    {
     "ename": "KeyError",
     "evalue": "'Mike'",
     "output_type": "error",
     "traceback": [
      "\u001b[0;31m---------------------------------------------------------------------------\u001b[0m",
      "\u001b[0;31mKeyError\u001b[0m                                  Traceback (most recent call last)",
      "Input \u001b[0;32mIn [125]\u001b[0m, in \u001b[0;36m<cell line: 1>\u001b[0;34m()\u001b[0m\n\u001b[0;32m----> 1\u001b[0m \u001b[43mclass_dict\u001b[49m\u001b[43m[\u001b[49m\u001b[38;5;124;43m\"\u001b[39;49m\u001b[38;5;124;43mMike\u001b[39;49m\u001b[38;5;124;43m\"\u001b[39;49m\u001b[43m]\u001b[49m\n",
      "\u001b[0;31mKeyError\u001b[0m: 'Mike'"
     ]
    }
   ],
   "source": [
    "class_dict[\"Mike\"]"
   ]
  },
  {
   "cell_type": "code",
   "execution_count": 126,
   "id": "579d139e",
   "metadata": {
    "slideshow": {
     "slide_type": "subslide"
    }
   },
   "outputs": [
    {
     "name": "stdout",
     "output_type": "stream",
     "text": [
      "None\n"
     ]
    }
   ],
   "source": [
    "# the .get() method catches key errors.\n",
    "print(class_dict.get(\"Mike\"))"
   ]
  },
  {
   "cell_type": "code",
   "execution_count": 128,
   "id": "332da3dc",
   "metadata": {
    "slideshow": {
     "slide_type": "subslide"
    }
   },
   "outputs": [
    {
     "data": {
      "text/plain": [
       "'Graduate Assistant'"
      ]
     },
     "execution_count": 128,
     "metadata": {},
     "output_type": "execute_result"
    }
   ],
   "source": [
    "# we can add Mike as a Graduate Assistant.\n",
    "class_dict[\"Beth\"] = \"Graduate Assistant\"\n",
    "class_dict[\"Beth\"]"
   ]
  },
  {
   "cell_type": "markdown",
   "id": "82fd6353",
   "metadata": {
    "slideshow": {
     "slide_type": "slide"
    }
   },
   "source": [
    "# Dict Comprehension\n",
    "\n",
    "It's basically a for loop that runs on k:v pairs that generates a new dict of results.\n",
    "\n",
    "{key:value for (key,value) in dict.items() if condition}"
   ]
  },
  {
   "cell_type": "code",
   "execution_count": 132,
   "id": "8bbd2789",
   "metadata": {
    "slideshow": {
     "slide_type": "subslide"
    }
   },
   "outputs": [
    {
     "data": {
      "text/plain": [
       "{'Brandan': 'Instructor',\n",
       " 'Lydia': 'Student',\n",
       " 'David': 'Student',\n",
       " 'Cayden': 'Student',\n",
       " 'Maddie': 'Stuent',\n",
       " 'Trevor': 'Student',\n",
       " 'Giselle': 'Student',\n",
       " 'Sheldon': 'Student',\n",
       " 'Will': 'Student',\n",
       " 'Beth': 'Graduate Assistant'}"
      ]
     },
     "execution_count": 132,
     "metadata": {},
     "output_type": "execute_result"
    }
   ],
   "source": [
    "class_dict"
   ]
  },
  {
   "cell_type": "code",
   "execution_count": 133,
   "id": "6b22db6f",
   "metadata": {
    "slideshow": {
     "slide_type": "subslide"
    }
   },
   "outputs": [
    {
     "data": {
      "text/plain": [
       "{'Lydia': 'Student',\n",
       " 'David': 'Student',\n",
       " 'Cayden': 'Student',\n",
       " 'Trevor': 'Student',\n",
       " 'Giselle': 'Student',\n",
       " 'Sheldon': 'Student',\n",
       " 'Will': 'Student'}"
      ]
     },
     "execution_count": 133,
     "metadata": {},
     "output_type": "execute_result"
    }
   ],
   "source": [
    "# use dict comprehension to filter\n",
    "student_dict = {key:value for (key,value) in class_dict.items() if class_dict[key]=='Student'}\n",
    "student_dict"
   ]
  },
  {
   "cell_type": "code",
   "execution_count": 134,
   "id": "b1af43f1",
   "metadata": {
    "slideshow": {
     "slide_type": "subslide"
    }
   },
   "outputs": [
    {
     "data": {
      "text/plain": [
       "{'Lydia': 'Alum',\n",
       " 'David': 'Alum',\n",
       " 'Cayden': 'Alum',\n",
       " 'Trevor': 'Alum',\n",
       " 'Giselle': 'Alum',\n",
       " 'Sheldon': 'Alum',\n",
       " 'Will': 'Alum'}"
      ]
     },
     "execution_count": 134,
     "metadata": {},
     "output_type": "execute_result"
    }
   ],
   "source": [
    "# use dict comprehension to modify\n",
    "alumni_dict = {key:value.replace(\"Student\",\"Alum\") for (key,value) in class_dict.items() if class_dict[key]=='Student'}\n",
    "alumni_dict"
   ]
  },
  {
   "cell_type": "markdown",
   "id": "36653c2c",
   "metadata": {
    "slideshow": {
     "slide_type": "slide"
    }
   },
   "source": [
    "# Sets\n",
    "\n",
    "A mutable unorderd list of unique immutable elements.\n",
    "\n",
    "newSet = {item1, item2, item3} __# looks like a dict, but note the lack of k:v pairs__"
   ]
  },
  {
   "cell_type": "code",
   "execution_count": 241,
   "id": "57309a92",
   "metadata": {
    "slideshow": {
     "slide_type": "subslide"
    }
   },
   "outputs": [
    {
     "data": {
      "text/plain": [
       "False"
      ]
     },
     "execution_count": 241,
     "metadata": {},
     "output_type": "execute_result"
    }
   ],
   "source": [
    "# Empty set is False\n",
    "set() == True"
   ]
  },
  {
   "cell_type": "code",
   "execution_count": 243,
   "id": "6501c7c4",
   "metadata": {
    "slideshow": {
     "slide_type": "subslide"
    }
   },
   "outputs": [
    {
     "data": {
      "text/plain": [
       "{0, 3, 5, 6, 7, 8, 9}"
      ]
     },
     "execution_count": 243,
     "metadata": {},
     "output_type": "execute_result"
    }
   ],
   "source": [
    "# Create sets with an iterable\n",
    "\n",
    "set([8,6,7,5,3,0,9])"
   ]
  },
  {
   "cell_type": "code",
   "execution_count": 255,
   "id": "c4fe1e86",
   "metadata": {
    "slideshow": {
     "slide_type": "subslide"
    }
   },
   "outputs": [
    {
     "name": "stdout",
     "output_type": "stream",
     "text": [
      "{'u', 'w', 'f', 'g', 'd', 'j', 'r', 'b', 'm', 'o', 'y', 'v', 'q', 's', 'l', 'n', 'p', 'i', 'z', 'a', 'h', ' ', 'x', 'e', 't', 'c', 'k'}\n",
      "27\n"
     ]
    }
   ],
   "source": [
    "characters = set(\"the quick brown fox jumps over the lazy dog\") #strings are iterable, duplicates are reduced\n",
    "print(characters) \n",
    "print(len(characters)) # whitespace counts as a letter in this case"
   ]
  },
  {
   "cell_type": "code",
   "execution_count": 258,
   "id": "c7ed5f98",
   "metadata": {
    "slideshow": {
     "slide_type": "subslide"
    }
   },
   "outputs": [
    {
     "data": {
      "text/plain": [
       "True"
      ]
     },
     "execution_count": 258,
     "metadata": {},
     "output_type": "execute_result"
    }
   ],
   "source": [
    "# set contains\n",
    "\"a\" in characters"
   ]
  },
  {
   "cell_type": "code",
   "execution_count": 259,
   "id": "9fd2c12e",
   "metadata": {
    "slideshow": {
     "slide_type": "subslide"
    }
   },
   "outputs": [
    {
     "data": {
      "text/plain": [
       "True"
      ]
     },
     "execution_count": 259,
     "metadata": {},
     "output_type": "execute_result"
    }
   ],
   "source": [
    "# set excludes\n",
    "6 not in characters"
   ]
  },
  {
   "cell_type": "code",
   "execution_count": 261,
   "id": "574ca42e",
   "metadata": {
    "slideshow": {
     "slide_type": "subslide"
    }
   },
   "outputs": [
    {
     "data": {
      "text/plain": [
       "True"
      ]
     },
     "execution_count": 261,
     "metadata": {},
     "output_type": "execute_result"
    }
   ],
   "source": [
    "characters.add(6)\n",
    "6 in characters"
   ]
  },
  {
   "cell_type": "code",
   "execution_count": 262,
   "id": "5b554e18",
   "metadata": {
    "slideshow": {
     "slide_type": "subslide"
    }
   },
   "outputs": [
    {
     "data": {
      "text/plain": [
       "False"
      ]
     },
     "execution_count": 262,
     "metadata": {},
     "output_type": "execute_result"
    }
   ],
   "source": [
    "characters.remove(6)\n",
    "6 in characters"
   ]
  },
  {
   "cell_type": "code",
   "execution_count": 264,
   "id": "79dc0b3b",
   "metadata": {
    "slideshow": {
     "slide_type": "subslide"
    }
   },
   "outputs": [
    {
     "ename": "KeyError",
     "evalue": "6",
     "output_type": "error",
     "traceback": [
      "\u001b[0;31m---------------------------------------------------------------------------\u001b[0m",
      "\u001b[0;31mKeyError\u001b[0m                                  Traceback (most recent call last)",
      "Input \u001b[0;32mIn [264]\u001b[0m, in \u001b[0;36m<cell line: 2>\u001b[0;34m()\u001b[0m\n\u001b[1;32m      1\u001b[0m \u001b[38;5;66;03m# if an element isn't in a set you might throw an error\u001b[39;00m\n\u001b[0;32m----> 2\u001b[0m \u001b[43mcharacters\u001b[49m\u001b[38;5;241;43m.\u001b[39;49m\u001b[43mremove\u001b[49m\u001b[43m(\u001b[49m\u001b[38;5;241;43m6\u001b[39;49m\u001b[43m)\u001b[49m\n",
      "\u001b[0;31mKeyError\u001b[0m: 6"
     ]
    }
   ],
   "source": [
    "# if an element isn't in a set you might throw an error\n",
    "characters.remove(6)"
   ]
  },
  {
   "cell_type": "code",
   "execution_count": 265,
   "id": "28e9ac99",
   "metadata": {
    "slideshow": {
     "slide_type": "subslide"
    }
   },
   "outputs": [],
   "source": [
    "# so discard might be better if you don't want to check set contents\n",
    "characters.discard(6)"
   ]
  },
  {
   "cell_type": "markdown",
   "id": "5e89b88d",
   "metadata": {
    "slideshow": {
     "slide_type": "slide"
    }
   },
   "source": [
    "# Other set methods\n",
    "\n",
    "__.pop( )__ - removes and returns an element\n",
    "\n",
    "__.clear( )__ - clears a set\n",
    "\n",
    "__.issubset(otherSet)__ - checks if current set is subset of otherSet\n",
    "\n",
    "__.issuperset(otherSet)__ - checks if otherSet is superset of current set\n",
    "\n",
    "__.difference(otherSet)__ - coputs the difference of current set and otherSet\n",
    "\n",
    "__frozenset()__ makes the set immutable"
   ]
  },
  {
   "cell_type": "code",
   "execution_count": 305,
   "id": "38b9824e",
   "metadata": {
    "slideshow": {
     "slide_type": "subslide"
    }
   },
   "outputs": [
    {
     "data": {
      "text/plain": [
       "{'Data Science'}"
      ]
     },
     "execution_count": 305,
     "metadata": {},
     "output_type": "execute_result"
    }
   ],
   "source": [
    "# Remember our venn diagram from last time?\n",
    "\n",
    "compSci = {'Machine Learning', 'Software Development', 'Data Science'}\n",
    "mathStats = {'Machine Learning', 'Traditional Research', 'Data Science'}\n",
    "domainKnowledge = {'Traditional Research', 'Software Development', 'Data Science'}\n",
    "\n",
    "compSci & mathStats & domainKnowledge # & for set intersect, | for set union"
   ]
  },
  {
   "cell_type": "code",
   "execution_count": 306,
   "id": "97b31b44",
   "metadata": {
    "slideshow": {
     "slide_type": "subslide"
    }
   },
   "outputs": [
    {
     "name": "stdout",
     "output_type": "stream",
     "text": [
      "{'Software Development'}\n",
      "{'Machine Learning'}\n",
      "{'Traditional Research'}\n"
     ]
    }
   ],
   "source": [
    "# Set Difference\n",
    "\n",
    "print(compSci - mathStats)\n",
    "print(mathStats - domainKnowledge)\n",
    "print(domainKnowledge - compSci)"
   ]
  },
  {
   "cell_type": "markdown",
   "id": "4c88c6ea",
   "metadata": {
    "slideshow": {
     "slide_type": "slide"
    }
   },
   "source": [
    "# Import packages\n",
    "\n",
    "import packages with __import__ or __import as__\n",
    "\n",
    "import modules __from__ packages"
   ]
  },
  {
   "cell_type": "code",
   "execution_count": 307,
   "id": "79620a80",
   "metadata": {
    "slideshow": {
     "slide_type": "subslide"
    }
   },
   "outputs": [],
   "source": [
    "import os\n",
    "import pandas as pd\n",
    "from pandas import DataFrame as DF"
   ]
  },
  {
   "cell_type": "code",
   "execution_count": 296,
   "id": "717cce17",
   "metadata": {
    "slideshow": {
     "slide_type": "subslide"
    }
   },
   "outputs": [
    {
     "data": {
      "text/plain": [
       "'/Users/brandanscully/Documents/DATA_510_DRAFT'"
      ]
     },
     "execution_count": 296,
     "metadata": {},
     "output_type": "execute_result"
    }
   ],
   "source": [
    "os.getcwd()"
   ]
  },
  {
   "cell_type": "code",
   "execution_count": 308,
   "id": "9782448d",
   "metadata": {
    "slideshow": {
     "slide_type": "subslide"
    }
   },
   "outputs": [
    {
     "data": {
      "text/html": [
       "<div>\n",
       "<style scoped>\n",
       "    .dataframe tbody tr th:only-of-type {\n",
       "        vertical-align: middle;\n",
       "    }\n",
       "\n",
       "    .dataframe tbody tr th {\n",
       "        vertical-align: top;\n",
       "    }\n",
       "\n",
       "    .dataframe thead th {\n",
       "        text-align: right;\n",
       "    }\n",
       "</style>\n",
       "<table border=\"1\" class=\"dataframe\">\n",
       "  <thead>\n",
       "    <tr style=\"text-align: right;\">\n",
       "      <th></th>\n",
       "      <th>Lydia</th>\n",
       "      <th>David</th>\n",
       "      <th>Cayden</th>\n",
       "      <th>Trevor</th>\n",
       "      <th>Giselle</th>\n",
       "      <th>Sheldon</th>\n",
       "      <th>Will</th>\n",
       "    </tr>\n",
       "  </thead>\n",
       "  <tbody>\n",
       "    <tr>\n",
       "      <th>0</th>\n",
       "      <td>Alum</td>\n",
       "      <td>Alum</td>\n",
       "      <td>Alum</td>\n",
       "      <td>Alum</td>\n",
       "      <td>Alum</td>\n",
       "      <td>Alum</td>\n",
       "      <td>Alum</td>\n",
       "    </tr>\n",
       "  </tbody>\n",
       "</table>\n",
       "</div>"
      ],
      "text/plain": [
       "  Lydia David Cayden Trevor Giselle Sheldon  Will\n",
       "0  Alum  Alum   Alum   Alum    Alum    Alum  Alum"
      ]
     },
     "execution_count": 308,
     "metadata": {},
     "output_type": "execute_result"
    }
   ],
   "source": [
    "# here we use the DataFrame module of pandas, but pd still has all modules\n",
    "df = pd.DataFrame(alumni_dict, index=range(1))\n",
    "df"
   ]
  },
  {
   "cell_type": "code",
   "execution_count": 309,
   "id": "cbe6508a",
   "metadata": {
    "slideshow": {
     "slide_type": "subslide"
    }
   },
   "outputs": [
    {
     "data": {
      "text/html": [
       "<div>\n",
       "<style scoped>\n",
       "    .dataframe tbody tr th:only-of-type {\n",
       "        vertical-align: middle;\n",
       "    }\n",
       "\n",
       "    .dataframe tbody tr th {\n",
       "        vertical-align: top;\n",
       "    }\n",
       "\n",
       "    .dataframe thead th {\n",
       "        text-align: right;\n",
       "    }\n",
       "</style>\n",
       "<table border=\"1\" class=\"dataframe\">\n",
       "  <thead>\n",
       "    <tr style=\"text-align: right;\">\n",
       "      <th></th>\n",
       "      <th>Lydia</th>\n",
       "      <th>David</th>\n",
       "      <th>Cayden</th>\n",
       "      <th>Trevor</th>\n",
       "      <th>Giselle</th>\n",
       "      <th>Sheldon</th>\n",
       "      <th>Will</th>\n",
       "    </tr>\n",
       "  </thead>\n",
       "  <tbody>\n",
       "    <tr>\n",
       "      <th>0</th>\n",
       "      <td>Alum</td>\n",
       "      <td>Alum</td>\n",
       "      <td>Alum</td>\n",
       "      <td>Alum</td>\n",
       "      <td>Alum</td>\n",
       "      <td>Alum</td>\n",
       "      <td>Alum</td>\n",
       "    </tr>\n",
       "  </tbody>\n",
       "</table>\n",
       "</div>"
      ],
      "text/plain": [
       "  Lydia David Cayden Trevor Giselle Sheldon  Will\n",
       "0  Alum  Alum   Alum   Alum    Alum    Alum  Alum"
      ]
     },
     "execution_count": 309,
     "metadata": {},
     "output_type": "execute_result"
    }
   ],
   "source": [
    "# here we only have access to the pandas DataFrame module and its methods.\n",
    "DF(alumni_dict, index=range(1)) # using the DataFrame module of pandas"
   ]
  },
  {
   "cell_type": "markdown",
   "id": "e7329b43",
   "metadata": {
    "slideshow": {
     "slide_type": "slide"
    }
   },
   "source": [
    "__[The Python Style Guide](https://peps.python.org/pep-0008)__ \n",
    "\n",
    "__[The Python tutorial that inspired this lecture](https://www.pythontutorial.net/python-basics/)__\n",
    "\n",
    "__[The Python docs](https://docs/python.org/3/)__"
   ]
  }
 ],
 "metadata": {
  "celltoolbar": "Slideshow",
  "kernelspec": {
   "display_name": "Python 3 (ipykernel)",
   "language": "python",
   "name": "python3"
  },
  "language_info": {
   "codemirror_mode": {
    "name": "ipython",
    "version": 3
   },
   "file_extension": ".py",
   "mimetype": "text/x-python",
   "name": "python",
   "nbconvert_exporter": "python",
   "pygments_lexer": "ipython3",
   "version": "3.9.12"
  }
 },
 "nbformat": 4,
 "nbformat_minor": 5
}
