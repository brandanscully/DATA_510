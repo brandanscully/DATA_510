{
 "cells": [
  {
   "cell_type": "markdown",
   "id": "6ff50195",
   "metadata": {},
   "source": [
    "# Pandas & Data Cleaning"
   ]
  },
  {
   "cell_type": "markdown",
   "id": "65acbd26",
   "metadata": {},
   "source": [
    "# Pandas Info\n",
    "\n",
    "* __[Pandas Docs](https://pandas.pydata.org/)__\n",
    "* __[I learned Pandas from this book](https://wesmckinney.com/book/)__\n",
    "* __[YAHT: Yet another handy tutorial](https://www.learndatasci.com/tutorials/python-pandas-tutorial-complete-introduction-for-beginners/)__\n"
   ]
  },
  {
   "cell_type": "markdown",
   "id": "c8b66557",
   "metadata": {},
   "source": [
    "# Pandas: What is it good for?\n",
    "\n",
    "* Tabular or spreadsheet-like data in which each column may be a different type (string, numeric, date, or otherwise). \n",
    "* Multidimensional arrays (matrices).\n",
    "* Multiple tables of data interrelated by key columns (what would be primary or foreign keys for a SQL user).\n",
    "* Evenly or unevenly spaced time series.\n",
    "\n",
    "[ref:](https://wesmckinney.com/book/preliminaries.html)"
   ]
  },
  {
   "cell_type": "markdown",
   "id": "1e426faa",
   "metadata": {},
   "source": [
    "# Pandas: What is it good for?\n",
    "\n",
    "Python integrates nicely with some Python libraries:\n",
    "\n",
    "* NumPy - Matrices \n",
    "* SciPy - Statistics\n",
    "* Matplotlib - Plotting\n",
    "* Scikit-learn - Machine Learning"
   ]
  },
  {
   "cell_type": "markdown",
   "id": "a8d68cd6",
   "metadata": {},
   "source": [
    "# Pandas Series\n",
    "\n",
    "A __series__ is a 1-dimensional array-like object containing a sequence of same-typed values + a labeled index.\n",
    "\n",
    "The default index is numeric, starting at 0, just like a list."
   ]
  },
  {
   "cell_type": "code",
   "execution_count": null,
   "id": "ba22df83",
   "metadata": {},
   "outputs": [],
   "source": [
    "import pandas as pd\n",
    "\n",
    "ser = pd.Series([8,6,7,5,3,0,9])\n",
    "ser"
   ]
  },
  {
   "cell_type": "markdown",
   "id": "95975e39",
   "metadata": {},
   "source": [
    "# Pandas Series\n",
    "\n",
    "Pass index labels using the __index__ argument."
   ]
  },
  {
   "cell_type": "code",
   "execution_count": null,
   "id": "4d44e80a",
   "metadata": {},
   "outputs": [],
   "source": [
    "serIdx = pd.Series([8,6,7,5,3,0,9], index=[\"j\",\"e\",\"n\",\"N\",\"y\",\"_\",\"!\"])\n",
    "serIdx"
   ]
  },
  {
   "cell_type": "code",
   "execution_count": null,
   "id": "a9e38aa2",
   "metadata": {},
   "outputs": [],
   "source": [
    "#select a value from a Series with its index\n",
    "print(ser[1], serIdx[\"N\"])"
   ]
  },
  {
   "cell_type": "code",
   "execution_count": null,
   "id": "82ae3e46",
   "metadata": {},
   "outputs": [],
   "source": [
    "#assign values similarly\n",
    "\n",
    "ser[1]=9\n",
    "\n",
    "ser"
   ]
  },
  {
   "cell_type": "code",
   "execution_count": null,
   "id": "caa715d3",
   "metadata": {},
   "outputs": [],
   "source": [
    "#filter series using boolean operators\n",
    "\n",
    "ser[ser>4]\n",
    "\n",
    "# I read this as select from ser WHERE value in ser > 4"
   ]
  },
  {
   "cell_type": "code",
   "execution_count": null,
   "id": "6539e393",
   "metadata": {},
   "outputs": [],
   "source": [
    "# do scalar arithmatic, e.g. add 3\n",
    "\n",
    "ser+3"
   ]
  },
  {
   "cell_type": "code",
   "execution_count": null,
   "id": "055f9d85",
   "metadata": {},
   "outputs": [],
   "source": [
    "# e.g. square\n",
    "ser**2"
   ]
  },
  {
   "cell_type": "code",
   "execution_count": null,
   "id": "9069a37e",
   "metadata": {},
   "outputs": [],
   "source": [
    "#it's like a fixed length, ordered dictionary index:value\n",
    "data = {\"j\":8,\"e\":6,\"n\":7,\"N\":5,\"y\":3,\"_\":0,\"!\":9}\n",
    "serIdx2 = pd.Series(data)\n",
    "serIdx2"
   ]
  },
  {
   "cell_type": "code",
   "execution_count": null,
   "id": "991aa5cf",
   "metadata": {},
   "outputs": [],
   "source": [
    "# convert that back to a dict\n",
    "serIdx2.to_dict()"
   ]
  },
  {
   "cell_type": "code",
   "execution_count": null,
   "id": "f50188c3",
   "metadata": {},
   "outputs": [],
   "source": [
    "#note, pandas will use NaN when a null value is present\n",
    "#note also, pandas is converting to a float\n",
    "index=[\"J\",\"e\",\"n\",\"N\",\"y\",\"_\",\"!\"]\n",
    "serIdx3 = pd.Series(data, index=index)\n",
    "serIdx3"
   ]
  },
  {
   "cell_type": "code",
   "execution_count": null,
   "id": "50923a09",
   "metadata": {},
   "outputs": [],
   "source": [
    "# use isna as a method or notna as a function, or vice versa\n",
    "serIdx3.isna(), pd.notna(serIdx3)"
   ]
  },
  {
   "cell_type": "code",
   "execution_count": null,
   "id": "7c39a769",
   "metadata": {},
   "outputs": [],
   "source": [
    "#Automatic Index Alignment\n",
    "serIdx2 + serIdx3"
   ]
  },
  {
   "cell_type": "code",
   "execution_count": null,
   "id": "4581638b",
   "metadata": {},
   "outputs": [],
   "source": [
    "#Name the Series & its index\n",
    "serIdx3.name = \"demoSeries\"\n",
    "serIdx3.index.name = \"demoIndex\"\n",
    "serIdx3"
   ]
  },
  {
   "cell_type": "code",
   "execution_count": null,
   "id": "a7fcbd97",
   "metadata": {},
   "outputs": [],
   "source": [
    "#assign a new index\n",
    "serIdx3.index = [\"j\",\"e\",\"n\",\"N\",\"y\",\"_\",\"!\"]\n",
    "serIdx3"
   ]
  },
  {
   "cell_type": "markdown",
   "id": "474b0679",
   "metadata": {},
   "source": [
    "# Pandas Data Frames\n",
    "\n",
    "A __Data Frame__ is a rectangular table of data with:\n",
    "\n",
    "* An ordered, named collection of columns independently typed data values\n",
    "* A row index\n",
    "* A column index"
   ]
  },
  {
   "cell_type": "code",
   "execution_count": null,
   "id": "ce43b3e2",
   "metadata": {},
   "outputs": [],
   "source": [
    "#enough of this stupid song reference.\n",
    "#now pulling from here: [pandas book](https://wesmckinney.com/book/pandas-basics.html)\n",
    "\n",
    "data = {\"state\": [\"Ohio\", \"Ohio\", \"Ohio\", \"Nevada\", \"Nevada\", \"Nevada\"],\n",
    "        \"year\": [2000, 2001, 2002, 2001, 2002, 2003],\n",
    "        \"pop\": [1.5, 1.7, 3.6, 2.4, 2.9, 3.2]}\n",
    "frame = pd.DataFrame(data)\n",
    "frame"
   ]
  },
  {
   "cell_type": "code",
   "execution_count": null,
   "id": "405294f7",
   "metadata": {},
   "outputs": [],
   "source": [
    "#inspect head\n",
    "frame.head()"
   ]
  },
  {
   "cell_type": "code",
   "execution_count": null,
   "id": "229ecdf3",
   "metadata": {},
   "outputs": [],
   "source": [
    "#inspect tail, specifying number of rows, which works on head too\n",
    "frame.tail(3)"
   ]
  },
  {
   "cell_type": "code",
   "execution_count": null,
   "id": "94e58dce",
   "metadata": {},
   "outputs": [],
   "source": [
    "#specify column order\n",
    "pd.DataFrame(data, columns=[\"year\", \"state\", \"pop\"])"
   ]
  },
  {
   "cell_type": "code",
   "execution_count": null,
   "id": "f0569570",
   "metadata": {},
   "outputs": [],
   "source": [
    "# select columns like a dictionary, or as a method\n",
    "\n",
    "frame[\"year\"], frame.year"
   ]
  },
  {
   "cell_type": "code",
   "execution_count": null,
   "id": "47c5fa42",
   "metadata": {},
   "outputs": [],
   "source": [
    "# select rows with loc using the label and iloc using the index\n",
    "frame.index = [\"a\",\"b\",\"c\",\"d\",\"e\",\"f\"]\n",
    "frame.loc[\"b\"], frame.iloc[1]"
   ]
  },
  {
   "cell_type": "code",
   "execution_count": null,
   "id": "3a6fbb1d",
   "metadata": {},
   "outputs": [],
   "source": [
    "#select multiple rows in loc or iloc by passing a list\n",
    "frame.loc[[\"c\",\"d\"]]"
   ]
  },
  {
   "cell_type": "code",
   "execution_count": null,
   "id": "9e43f92c",
   "metadata": {},
   "outputs": [],
   "source": [
    "#select multiple rows using a slice\n",
    "frame.iloc[2:4]"
   ]
  },
  {
   "cell_type": "code",
   "execution_count": null,
   "id": "cc61f6f2",
   "metadata": {},
   "outputs": [],
   "source": [
    "#create a column using NaN values from NumPy\n",
    "import numpy as np\n",
    "\n",
    "frame[\"debt\"]=np.nan\n",
    "\n",
    "frame"
   ]
  },
  {
   "cell_type": "code",
   "execution_count": null,
   "id": "37fe0705",
   "metadata": {},
   "outputs": [],
   "source": [
    "#Modify column by assignment\n",
    "# this modifies the underlying data\n",
    "\n",
    "frame[\"debt\"] = 0\n",
    "\n",
    "frame"
   ]
  },
  {
   "cell_type": "code",
   "execution_count": null,
   "id": "ebe5a392",
   "metadata": {},
   "outputs": [],
   "source": [
    "# set a column as the index\n",
    "# this modifies the view on the data\n",
    "frame.set_index(\"state\")"
   ]
  },
  {
   "cell_type": "code",
   "execution_count": null,
   "id": "3cf80b7d",
   "metadata": {},
   "outputs": [],
   "source": [
    "# use multiple columns for a multi-index\n",
    "\n",
    "frame.set_index([\"year\",\"state\"])"
   ]
  },
  {
   "cell_type": "code",
   "execution_count": null,
   "id": "a8eb01d5",
   "metadata": {},
   "outputs": [],
   "source": [
    "#the data is unchanged\n",
    "frame"
   ]
  },
  {
   "cell_type": "code",
   "execution_count": null,
   "id": "52b14e52",
   "metadata": {},
   "outputs": [],
   "source": [
    "# make the change permanently\n",
    "\n",
    "frame =frame.set_index([\"year\",\"state\"])\n",
    "frame"
   ]
  },
  {
   "cell_type": "code",
   "execution_count": null,
   "id": "781f77e5",
   "metadata": {},
   "outputs": [],
   "source": [
    "#undo the change using reset_index and the inplace keyword argument\n",
    "frame.reset_index(inplace=True)\n",
    "frame"
   ]
  },
  {
   "cell_type": "code",
   "execution_count": null,
   "id": "20134376",
   "metadata": {},
   "outputs": [],
   "source": [
    "# there are some built in analysis functions\n",
    "#(number of rows, number of columns)\n",
    "frame.shape "
   ]
  },
  {
   "cell_type": "code",
   "execution_count": null,
   "id": "9682963f",
   "metadata": {},
   "outputs": [],
   "source": [
    "#number of values\n",
    "frame.size"
   ]
  },
  {
   "cell_type": "code",
   "execution_count": null,
   "id": "9a0c1ab5",
   "metadata": {},
   "outputs": [],
   "source": [
    "#data type of each column\n",
    "frame.dtypes"
   ]
  },
  {
   "cell_type": "code",
   "execution_count": null,
   "id": "39456eb7",
   "metadata": {},
   "outputs": [],
   "source": [
    "#mean, median, variance\n",
    "frame['pop'].mean(), frame['pop'].median(), frame['pop'].var()"
   ]
  },
  {
   "cell_type": "code",
   "execution_count": null,
   "id": "371160b5",
   "metadata": {},
   "outputs": [],
   "source": [
    "#min, max\n",
    "frame['pop'].min(), frame['pop'].max()"
   ]
  },
  {
   "cell_type": "code",
   "execution_count": null,
   "id": "16b4f8c8",
   "metadata": {},
   "outputs": [],
   "source": [
    "#unique values\n",
    "frame['state'].unique(), frame['pop'].unique()"
   ]
  },
  {
   "cell_type": "code",
   "execution_count": null,
   "id": "266ff50b",
   "metadata": {},
   "outputs": [],
   "source": [
    "#sort numeric values\n",
    "frame['pop'].sort_values(ascending=False)"
   ]
  },
  {
   "cell_type": "markdown",
   "id": "5cea275b",
   "metadata": {},
   "source": [
    "# Pandas Data Reading & Writing\n",
    "\n",
    "Now that you know enough pandas to be dangerous, you can read a variety of formats, including:\n",
    "\n",
    "* csv\n",
    "* excel\n",
    "* html\n",
    "* json"
   ]
  },
  {
   "cell_type": "code",
   "execution_count": null,
   "id": "2594a3b3",
   "metadata": {},
   "outputs": [],
   "source": [
    "#change csvPath to the path for your file\n",
    "csvPath = r\"/Users/brandanscully/Documents/GitHub/DATA_510/handyrefs.csv\"\n",
    "\n",
    "# there are many controls for ordering, skipping, and setting column preferences\n",
    "# we're not going to get into them now\n",
    "handyrefs = pd.read_csv(csvPath)\n",
    "\n",
    "handyrefs"
   ]
  },
  {
   "cell_type": "markdown",
   "id": "bd0b40d2",
   "metadata": {},
   "source": [
    "# Pandas Data Reading & Writing\n",
    "\n",
    "The point here is that pandas is very flexible for managing tabular data."
   ]
  },
  {
   "cell_type": "markdown",
   "id": "c23eb0bf",
   "metadata": {},
   "source": [
    "# Data Cleaning!\n",
    "\n",
    "So far, we have talked about how to get data from a source, including:\n",
    "\n",
    "* api\n",
    "* website via scraping\n",
    "* text file\n",
    "* csv file"
   ]
  },
  {
   "cell_type": "markdown",
   "id": "c3261c96",
   "metadata": {},
   "source": [
    "# Data Cleaning!\n",
    "\n",
    "Now that we have the data, we need to talk about what to do when it's \"dirty\".\n",
    "\n",
    "First, we need to think about data types, which can be confusing."
   ]
  },
  {
   "cell_type": "markdown",
   "id": "914f90ce",
   "metadata": {},
   "source": [
    "# Data Types\n",
    "\n",
    "* __Discrete__: Countable, e.g. individuals in a group \n",
    "* __Continuous__: Sequence data with sub-integer values, e.g. temperature\n",
    "\n",
    "[Discrete v. Continuous](https://www.statisticshowto.com/probability-and-statistics/statistics-definitions/discrete-vs-continuous-variables/)"
   ]
  },
  {
   "cell_type": "markdown",
   "id": "6a66b4e9",
   "metadata": {},
   "source": [
    "# Data Types\n",
    "\n",
    "* __Qualitative__: Type or Label data\n",
    "* __Quantitative__: Numeric data"
   ]
  },
  {
   "cell_type": "markdown",
   "id": "451bca1f",
   "metadata": {},
   "source": [
    "# Qualitative Data\n",
    "\n",
    "* __Nominal__: Category labels with no specific hierarchy\n",
    "* __Ordinal__: Data that describe order without informing difference"
   ]
  },
  {
   "cell_type": "markdown",
   "id": "82f2abbb",
   "metadata": {},
   "source": [
    "# Quantitative Data\n",
    "\n",
    "* __Interval__: Numeric data preserving order and difference along known equal interval\n",
    "* __Ratio__: Numeric data that preserves order, difference, and has a \"true 0\"."
   ]
  },
  {
   "cell_type": "markdown",
   "id": "c8a0b536",
   "metadata": {},
   "source": [
    "# Nominal Data\n",
    "\n",
    "If we were to partition our class by student name, we would have 8 groups:\n",
    "\n",
    "Lydia, Will, Maddie, Sheldon, Trevor, Giselle, David, Cayden\n",
    "\n",
    "We could then assign a __dummy variable__ (a placeholder for another value) for each of those 8 groups, e.g. 0-7.\n",
    "\n",
    "Lydia:0, Will:1, Maddie:2, Sheldon:3, Trevor:4, Giselle:5, David:6, Cayden:7\n",
    "\n",
    "The order of labels is trivial.\n",
    "\n",
    "The difference between labels is uninformative."
   ]
  },
  {
   "cell_type": "markdown",
   "id": "7598bd8e",
   "metadata": {},
   "source": [
    "# Ordinal Data\n",
    "\n",
    "Ordinal data assings an inherent order to label data. \n",
    "\n",
    "Charleston's temperature can be described as:\n",
    "\n",
    "* \"Very hot\"\n",
    "* \"hot\"\n",
    "* \"cold\"\n",
    "* \"very cold\"\n",
    "\n",
    "The labels tell us something meaningful about temperature, absent actual temperature ranges.\n",
    "\n",
    "Arbitrarilly defining temperature ranges doesn't affect the ordinal labels:\n",
    "\n",
    "* \"Very hot\": T >= 100 F\n",
    "* \"hot\": 100 > T >= 75\n",
    "* \"cold\": 75 > T >= 60 \n",
    "* \"very cold\": T < 60\n",
    "\n",
    "Assigning a _dummy variable_ to ordinal data must preserve the order.\n",
    "\n",
    "* \"Very hot\": 0\n",
    "* \"hot\": 1\n",
    "* \"cold\": 2\n",
    "* \"very cold\": 3"
   ]
  },
  {
   "cell_type": "markdown",
   "id": "d8dcf298",
   "metadata": {},
   "source": [
    "# Interval Data\n",
    "\n",
    "Interval data have labels and order and a meaningful difference between known equal intervals.\n",
    "\n",
    "Sticking with temperature, the difference between 100 F, 75 F, and 60 F is 25 F and 15 F, respectively.\n",
    "\n",
    "0 F, and -10 F are _relatively_ cold. But 0 F just means halfway between 1 F and -1 F.\n",
    "\n",
    "This lack of a \"true 0\" and the ability to have negative values means division and multiplication won't work."
   ]
  },
  {
   "cell_type": "markdown",
   "id": "c58e63e2",
   "metadata": {},
   "source": [
    "# Ratio Data \n",
    "\n",
    "Ratio data have labels, order, a meaningful difference between known equal intervals, and a \"true 0\".\n",
    "\n",
    "A __True 0__ means that a value of 0 means an absence of that value.\n",
    "\n",
    "0 Kelvin means an absence of temperature. 0 F or 0 C are relatively warmer than 0 K, but they're not the same.\n",
    "\n",
    "Ratio data can be divided, multiplied, etc."
   ]
  },
  {
   "cell_type": "markdown",
   "id": "fe557570",
   "metadata": {},
   "source": [
    "# Data Types Explainers\n",
    "\n",
    "Here are some handy references if this is confusing:\n",
    "\n",
    "* [Levels of Measurement](https://careerfoundry.com/en/blog/data-analytics/data-levels-of-measurement/)\n",
    "* [Measurement Scales](https://www.statsdirect.com/help/basics/measurement_scales.htm#:~:text=The%20interval%20measurement%20scale%20is,treat%20discrete%20values%20as%20continuous.)\n",
    "* [Ratio Data](https://careerfoundry.com/en/blog/data-analytics/what-is-ratio-data/)\n",
    "* [Data Types](https://builtin.com/data-science/data-types-statistics)"
   ]
  },
  {
   "cell_type": "markdown",
   "id": "81e3e874",
   "metadata": {},
   "source": [
    "# Missing Data & Sentinel Values\n",
    "\n",
    "There is a difference between an observation of value 0, and no observation.\n",
    "\n",
    "If you are measuring the height of something, a measurement of 0 means the object has no height.\n",
    "\n",
    "If you don't record a measurement for an object, it may have 0 height, but that's not necessarily true.\n",
    "\n",
    "__Null Data__ is the case where data are missing.\n",
    "\n",
    "You will need to make a decision of what to do with this data.\n",
    "\n",
    "The same goes for the case where a __Sentinel value__ represents an observation.\n",
    "\n",
    "A __Sentinal value__ is used to represent another value or set of values.\n",
    "\n",
    "If observations are interested in the range of 1-10 and an observation is more than 10, it might get a sentinel value like -999."
   ]
  },
  {
   "cell_type": "markdown",
   "id": "137ed64d",
   "metadata": {},
   "source": [
    "Python in general and Pandas specifically has tools built in to help us with these issues.\n",
    "\n",
    "Starting with the [read_csv documentation](https://pandas.pydata.org/docs/reference/api/pandas.read_csv.html):\n",
    "\n",
    "* usecols=None\n",
    "* true_values=None \n",
    "* false_values=None\n",
    "* na_values=None\n",
    "* na_filter=True\n",
    "* delim_whitespace=False\n",
    "\n",
    "All of these can be used to specify how pandas treats missing values, sentinel values, whitespace characters, etc. at the read-in stage."
   ]
  },
  {
   "cell_type": "markdown",
   "id": "e064606e",
   "metadata": {},
   "source": [
    "Once data are read in, we can access some data cleaning functions right in pandas."
   ]
  },
  {
   "cell_type": "code",
   "execution_count": null,
   "id": "7fb6131b",
   "metadata": {},
   "outputs": [],
   "source": [
    "#here's a useful note about trying to set values using chained indexing\n",
    "frame.iloc[0]['debt']=np.nan"
   ]
  },
  {
   "cell_type": "code",
   "execution_count": null,
   "id": "f8ff271d",
   "metadata": {},
   "outputs": [],
   "source": [
    "#this is still chained indexing\n",
    "frame.loc[3]['debt']=np.nan"
   ]
  },
  {
   "cell_type": "code",
   "execution_count": null,
   "id": "a72d83d1",
   "metadata": {},
   "outputs": [],
   "source": [
    "#select the column, then the label, then assign\n",
    "frame['debt'].loc[0]=np.nan\n",
    "frame"
   ]
  },
  {
   "cell_type": "code",
   "execution_count": null,
   "id": "cf8a226b",
   "metadata": {},
   "outputs": [],
   "source": [
    "#drop null values from view, \n",
    "frame.dropna()"
   ]
  },
  {
   "cell_type": "code",
   "execution_count": null,
   "id": "5bce98f5",
   "metadata": {},
   "outputs": [],
   "source": [
    "frame"
   ]
  },
  {
   "cell_type": "code",
   "execution_count": null,
   "id": "0a1d9d14",
   "metadata": {},
   "outputs": [],
   "source": [
    "#or use inplace = True keyword argument to make it permanent\n",
    "frame.dropna(inplace=True)\n",
    "frame"
   ]
  },
  {
   "cell_type": "code",
   "execution_count": null,
   "id": "52666c9b",
   "metadata": {},
   "outputs": [],
   "source": [
    "# so if we care about whether a field should be retained or kept for analysis we can start applying cleaning\n",
    "# In this case the variance of 'debt' is 0\n",
    "frame['debt'].var()"
   ]
  },
  {
   "cell_type": "code",
   "execution_count": null,
   "id": "cc066c83",
   "metadata": {},
   "outputs": [],
   "source": [
    "#Statistically, var=0 means the data is homogenouse and therefore, not useful\n",
    "#so we can omit it on read-in with usecols and omitting debt (which we added before)\n",
    "#or we can delete it\n",
    "\n",
    "del frame['debt']\n",
    "frame"
   ]
  },
  {
   "cell_type": "code",
   "execution_count": null,
   "id": "55ec1bb4",
   "metadata": {},
   "outputs": [],
   "source": [
    "#pandas has an apply method that lets you use a function on each column with a lambda\n",
    "handyrefs['Link'].apply(lambda x: len(x))"
   ]
  },
  {
   "cell_type": "markdown",
   "id": "c3e560e3",
   "metadata": {},
   "source": [
    "Clearly, Link 6 is an outlier so we can investigate it."
   ]
  },
  {
   "cell_type": "code",
   "execution_count": null,
   "id": "5ddd2f8c",
   "metadata": {},
   "outputs": [],
   "source": [
    "# Alternatively, we can apply some formatting operations to fix data\n",
    "handyrefs['Link'].apply(lambda x: x.split('://')[1])"
   ]
  },
  {
   "cell_type": "markdown",
   "id": "3de22670",
   "metadata": {},
   "source": [
    "This is the beginning, and we will be looking at data cleaning more in depth next week"
   ]
  },
  {
   "cell_type": "markdown",
   "id": "7e30c759",
   "metadata": {},
   "source": [
    "# YAIBP: Yet Another Inspirational Blog Post\n",
    "\n",
    "[How Text Messages Change After Having a Baby](http://adashofdata.com/2017/09/05/how-text-messages-change-after-having-a-baby/)"
   ]
  },
  {
   "cell_type": "code",
   "execution_count": null,
   "id": "cb8742e8",
   "metadata": {},
   "outputs": [],
   "source": []
  }
 ],
 "metadata": {
  "kernelspec": {
   "display_name": "Python 3 (ipykernel)",
   "language": "python",
   "name": "python3"
  },
  "language_info": {
   "codemirror_mode": {
    "name": "ipython",
    "version": 3
   },
   "file_extension": ".py",
   "mimetype": "text/x-python",
   "name": "python",
   "nbconvert_exporter": "python",
   "pygments_lexer": "ipython3",
   "version": "3.9.12"
  }
 },
 "nbformat": 4,
 "nbformat_minor": 5
}
