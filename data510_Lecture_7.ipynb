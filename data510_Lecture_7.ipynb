{
 "cells": [
  {
   "cell_type": "markdown",
   "id": "b0525114",
   "metadata": {},
   "source": [
    "# More Pandas and a Data Cleaning Example"
   ]
  },
  {
   "cell_type": "markdown",
   "id": "60b91d74",
   "metadata": {},
   "source": [
    "## Housekeeping\n",
    "\n",
    "* Last week's material.\n",
    "* HW2, project proposals.\n",
    "* The midterm."
   ]
  },
  {
   "cell_type": "markdown",
   "id": "b6883db5",
   "metadata": {},
   "source": [
    "# Last Week's Material\n",
    "\n",
    "* Pandas is great for dealing with spreadsheet type data.\n",
    "* Columns/Indices make it versatile for querying data, but these can be tricky.\n",
    "* Pandas is well documented - look there first with questions.\n",
    "* Practice is the best way to get better with Pandas, text cleaning, & coding in general."
   ]
  },
  {
   "cell_type": "markdown",
   "id": "01ceabec",
   "metadata": {},
   "source": [
    "# Project Proposals\n",
    "\n",
    "* I'm STOKED.\n",
    "* Everyone is doing something unique and interesting.\n",
    "* The goal is do learn something, and hopefully have somthing to demonstrate your skill.\n",
    "* I'm here to help you succeed.\n",
    "* Get to work!"
   ]
  },
  {
   "cell_type": "markdown",
   "id": "634c688f",
   "metadata": {},
   "source": [
    "# Midterm\n",
    "\n",
    "* Opens in OAKS Sep 28, 2022 9:00 PM EDT\n",
    "* Closes in OAKS Oct 4, 2022 11:59 PM EDT\n",
    "* 29 questions: T/F, multiple choice, matching.\n",
    "* Open class notebooks. \n",
    "* Please don't collaborate."
   ]
  },
  {
   "cell_type": "markdown",
   "id": "03daeb26",
   "metadata": {},
   "source": [
    "# Anything Else?"
   ]
  },
  {
   "cell_type": "markdown",
   "id": "8c08de63",
   "metadata": {},
   "source": [
    "# Data Cleaning with Pandas\n",
    "\n",
    "I'm referencing a few tutorials.\n",
    "\n",
    "* [Oil Spills & Iris dataset](https://machinelarningmastery.com/basic-data-cleaning-for-machine-learning)\n",
    "* In turn, this tutorial references Kuhn, M., and Johnson, K. (2019) _Feature Engineeing and Selection: A Practical Approach for Predictive Models_ (1st ed). Chapman & Hall/CRC Data Science Series. \n",
    "\n",
    "You should also check out this [kaggle tutorial](https://www.kaggle.com/code/ashrafkhan94/oil-spill-imbalanced-classification/notebook).\n",
    "\n",
    "And the [pandas docs](https://pandas.pydata.org/)."
   ]
  },
  {
   "cell_type": "code",
   "execution_count": null,
   "id": "d7943820",
   "metadata": {},
   "outputs": [],
   "source": [
    "import pandas as pd"
   ]
  },
  {
   "cell_type": "markdown",
   "id": "ead60927",
   "metadata": {},
   "source": [
    "# How do we think about data?\n",
    "\n",
    "* One way is to focus explicitly on the values.\n",
    "* Another way is to think about the big picture.\n",
    "\n",
    "Both of these are valuable."
   ]
  },
  {
   "cell_type": "markdown",
   "id": "0ec34cf1",
   "metadata": {},
   "source": [
    "# Iris Dataset\n",
    "\n",
    "A balanced dataset that describes 3 species (classes) of Iris flower, each with 50 instances (150 total). Each observation has e measurements of different parts of the flower.\n",
    "\n",
    "[Fisher, R.A. (1936). \"The use of multiple measurements in taxonomic problems\". _Annual Eugenics_, 7, Part II 179-188.](https://onlinelibrary.wiley.com/doi/10.1111/j.1469-1809.1936.tb02137.x)\n",
    "\n",
    "[Iris Dataset](https://archive.ics.uci.edu/ml/datasets/iris)"
   ]
  },
  {
   "cell_type": "code",
   "execution_count": null,
   "id": "7fcb9ae6",
   "metadata": {},
   "outputs": [],
   "source": [
    "#this dataset has been adulturated\n",
    "iris_data = r\"https://raw.githubusercontent.com/jbrownlee/Datasets/master/iris.csv\"\n",
    "columns=[\"Sepal length in cm\", \"sepal width in cm\", \"petal length in cm\", \"petal width in cm\", \"class\"]\n",
    "iris_df = pd.read_csv(iris_data, header=None, names=columns)"
   ]
  },
  {
   "cell_type": "code",
   "execution_count": null,
   "id": "d0af62ff",
   "metadata": {},
   "outputs": [],
   "source": [
    "iris_df.head()"
   ]
  },
  {
   "cell_type": "code",
   "execution_count": null,
   "id": "405d27f5",
   "metadata": {},
   "outputs": [],
   "source": [
    "iris_df.shape"
   ]
  },
  {
   "cell_type": "markdown",
   "id": "94b94bf9",
   "metadata": {},
   "source": [
    "One of the simplest errors to check for is duplicated data.\n",
    "\n",
    "Pandas has a function for that."
   ]
  },
  {
   "cell_type": "code",
   "execution_count": null,
   "id": "81dddec7",
   "metadata": {},
   "outputs": [],
   "source": [
    "# we indeed have duplicates at least for line 37.\n",
    "iris_df.iloc[33:38]"
   ]
  },
  {
   "cell_type": "code",
   "execution_count": null,
   "id": "f2496963",
   "metadata": {},
   "outputs": [],
   "source": [
    "iris_df[iris_df.duplicated()]"
   ]
  },
  {
   "cell_type": "markdown",
   "id": "8c1b8739",
   "metadata": {},
   "source": [
    "Rows 34 and 37 duplicate row 9.\n",
    "Row 142 duplicates row 101.\n",
    "We can confirm this by making a pandas selection."
   ]
  },
  {
   "cell_type": "code",
   "execution_count": null,
   "id": "ab8af4bd",
   "metadata": {},
   "outputs": [],
   "source": [
    "iris_df[(iris_df[\"Sepal length in cm\"]==4.9)|(iris_df[\"Sepal length in cm\"]==5.8)]"
   ]
  },
  {
   "cell_type": "code",
   "execution_count": null,
   "id": "18582173",
   "metadata": {},
   "outputs": [],
   "source": [
    "#they are easily dropped with drop_duplicates and the inplace keyword argument\n",
    "iris_df.drop_duplicates(inplace=True)\n",
    "iris_df"
   ]
  },
  {
   "cell_type": "code",
   "execution_count": null,
   "id": "63a8174b",
   "metadata": {},
   "outputs": [],
   "source": [
    "iris_df.shape"
   ]
  },
  {
   "cell_type": "code",
   "execution_count": null,
   "id": "5c1386b1",
   "metadata": {},
   "outputs": [],
   "source": [
    "#pandas can tell us a little about the data\n",
    "iris_df.describe()"
   ]
  },
  {
   "cell_type": "code",
   "execution_count": null,
   "id": "a80614ff",
   "metadata": {},
   "outputs": [],
   "source": [
    "#A scatter matrix gives us a quick way to compare data relationships.\n",
    "pd.plotting.scatter_matrix(iris_df)"
   ]
  },
  {
   "cell_type": "markdown",
   "id": "1924a871",
   "metadata": {},
   "source": [
    "Variables 2 and 3 seem to have a strong linear relationship.\n",
    "\n",
    "Everything else seems like there could be embedded relationships, given that we're dealing with 3 labels."
   ]
  },
  {
   "cell_type": "code",
   "execution_count": null,
   "id": "f0659ee6",
   "metadata": {},
   "outputs": [],
   "source": [
    "pd.plotting.scatter_matrix(iris_df[iris_df['class']=='Iris-versicolor'])"
   ]
  },
  {
   "cell_type": "code",
   "execution_count": null,
   "id": "00d83e35",
   "metadata": {},
   "outputs": [],
   "source": [
    "pd.plotting.scatter_matrix(iris_df[iris_df['class']=='Iris-virginica'])"
   ]
  },
  {
   "cell_type": "code",
   "execution_count": null,
   "id": "c2fcab33",
   "metadata": {},
   "outputs": [],
   "source": [
    "pd.plotting.scatter_matrix(iris_df[iris_df['class']=='Iris-setosa'])"
   ]
  },
  {
   "cell_type": "code",
   "execution_count": null,
   "id": "8d9ba5b1",
   "metadata": {},
   "outputs": [],
   "source": [
    "#sometimes, you want to assign a value based on some other value, such as when plotting\n",
    "iris_df.plot.scatter(x=\"Sepal length in cm\",y=\"sepal width in cm\", c=\"class\")"
   ]
  },
  {
   "cell_type": "code",
   "execution_count": null,
   "id": "0bfdf286",
   "metadata": {},
   "outputs": [],
   "source": [
    "# we can build a dict of integer values to quite that error, and create a new collumn by mapping it \n",
    "int_class={\"Iris-versicolor\":0, \"Iris-setosa\":1, \"Iris-virginica\":2}\n",
    "iris_df[\"int_class\"] = iris_df[\"class\"].map(int_class)"
   ]
  },
  {
   "cell_type": "code",
   "execution_count": null,
   "id": "3fc16d57",
   "metadata": {},
   "outputs": [],
   "source": [
    "iris_df.head()"
   ]
  },
  {
   "cell_type": "code",
   "execution_count": null,
   "id": "02a2d509",
   "metadata": {},
   "outputs": [],
   "source": [
    "iris_df.plot.scatter(x=\"Sepal length in cm\",y=\"sepal width in cm\", c=\"int_class\")"
   ]
  },
  {
   "cell_type": "markdown",
   "id": "5bcd4630",
   "metadata": {},
   "source": [
    "# Oil Spills Dataset\n",
    "\n",
    "An imbalanced dataset that describes 41 oil slicks and 896 non-oil slicks.\n",
    "\n",
    "Each case includes a patch number (column 0), a class label (1 = slick, 0 = 0), and 48 numerical features derived from computer vision analysis of satellite imagery.\n",
    "\n",
    "[Kubat, M., Holte, R., & Matwin, S. (1998) Machine learning for the detection of oil spills in satellite radar images. _Machine Learning_, 30, 195-215.](https://link.springer.com/content/pdf/10.1023/A:1007452223027.pdf)"
   ]
  },
  {
   "cell_type": "code",
   "execution_count": null,
   "id": "d7345c7e",
   "metadata": {},
   "outputs": [],
   "source": [
    "oil_data = r\"https://raw.githubusercontent.com/jbrownlee/Datasets/master/oil-spill.csv\"\n",
    "oil_df = pd.read_csv(oil_data, header=None)\n",
    "\n",
    "oil_df.head()"
   ]
  },
  {
   "cell_type": "markdown",
   "id": "d9028761",
   "metadata": {},
   "source": [
    "By calling the head of the dataframe, we can see that it has 50 columns as expected.\n",
    "\n",
    "To determine the shape of the dataset, we can call df.shape"
   ]
  },
  {
   "cell_type": "code",
   "execution_count": null,
   "id": "db8f178e",
   "metadata": {},
   "outputs": [],
   "source": [
    "oil_df.shape #50 columns, 937 rows = 41 slicks + 896 non-slicks"
   ]
  },
  {
   "cell_type": "markdown",
   "id": "05bd136e",
   "metadata": {},
   "source": [
    "# When is data _valuable_?\n",
    "\n",
    "When it tells us something!\n",
    "\n",
    "So, how can we tell if our data is telling us something?\n",
    "\n",
    "A quick way to explore your data is to look at each column's data type and number of unique values."
   ]
  },
  {
   "cell_type": "code",
   "execution_count": null,
   "id": "997ca477",
   "metadata": {},
   "outputs": [],
   "source": [
    "# use the dtypes command to get the data type of each column\n",
    "oil_df.dtypes"
   ]
  },
  {
   "cell_type": "code",
   "execution_count": null,
   "id": "6a18d05a",
   "metadata": {},
   "outputs": [],
   "source": [
    "#the pandas describe() method runs some simple statistics on each field.\n",
    "oil_df.describe()"
   ]
  },
  {
   "cell_type": "code",
   "execution_count": null,
   "id": "27420163",
   "metadata": {},
   "outputs": [],
   "source": [
    "#alternatively summarize the integer columns using the select_dtypes command and the len() command\n",
    "print('There are {} columns with integer data'.format(len(df.select_dtypes(include=['int']).columns)))\n",
    "oil_df.select_dtypes(include=['int']).columns"
   ]
  },
  {
   "cell_type": "markdown",
   "id": "a27b1a3d",
   "metadata": {},
   "source": [
    "# What integer data would make sense?\n",
    "\n",
    "* Column 0 is an integer patch number.\n",
    "* We know that there is a class label ( 1 = slick, 0 = no slick)\n",
    "* This is numerical data from an automated process, so it would make sense if data were encoded as ordinal/categorical."
   ]
  },
  {
   "cell_type": "code",
   "execution_count": null,
   "id": "5cbe0a74",
   "metadata": {},
   "outputs": [],
   "source": [
    "# we can also summarize the integer columns using the select_dtypes command and the len() command\n",
    "print('There are {} columns with float data'.format(len(df.select_dtypes(include=['float']).columns)))\n",
    "oil_df.select_dtypes(include=['float']).columns"
   ]
  },
  {
   "cell_type": "code",
   "execution_count": null,
   "id": "7a1bdde8",
   "metadata": {},
   "outputs": [],
   "source": [
    "# use the nunique command to get the number of unique values per column.\n",
    "# what fields are interesting?\n",
    "counts = df.nunique()\n",
    "counts"
   ]
  },
  {
   "cell_type": "markdown",
   "id": "093e0cce",
   "metadata": {},
   "source": [
    "# Initial Analysis\n",
    "\n",
    "Field 0 is the patch number. Why are there only 238 uniques?\n",
    "\n",
    "Fields 45 and 29 only have 2 unique integers each. Class label candidates.\n",
    "\n",
    "Field 22 has only 1 unique value.\n",
    "\n",
    "Field 46 has a unique value for every case.\n",
    "\n",
    "A handful of fields have single digit unique values.\n",
    "\n",
    "It's informative to look at the number of uniqe values per field as a percent of the total number of cases."
   ]
  },
  {
   "cell_type": "code",
   "execution_count": null,
   "id": "83ca7a5f",
   "metadata": {},
   "outputs": [],
   "source": [
    "for i in range(oil_df.shape[1]):\n",
    "    num = len(oil_df[i].unique())\n",
    "    pctg = num/oil_df.shape[0]*100\n",
    "    print('%d, %d, %.1f%%' % (i, num, pctg))"
   ]
  },
  {
   "cell_type": "markdown",
   "id": "13d59394",
   "metadata": {},
   "source": [
    "What's the variance of a field with one unique value?"
   ]
  },
  {
   "cell_type": "code",
   "execution_count": null,
   "id": "f0f5cbe3",
   "metadata": {},
   "outputs": [],
   "source": [
    "oil_df[22].var()"
   ]
  },
  {
   "cell_type": "markdown",
   "id": "d8e3bdcf",
   "metadata": {},
   "source": [
    "This doesn't tell us anything, so we can exclude it. The tutorial goes into applying variance thresholds on the data colums as a means of identifying columns to drop based on varying criteria. It's overkill for now, but feel free to explore it on your own.\n",
    "\n",
    "For the sake of argument, let's assume it's appropriate to discard anything with variance = 0 and columns with fewer than 1% unique values, except for the class label."
   ]
  },
  {
   "cell_type": "markdown",
   "id": "0218de6f",
   "metadata": {},
   "source": [
    "Which field is the class label?"
   ]
  },
  {
   "cell_type": "code",
   "execution_count": null,
   "id": "8bedc8c2",
   "metadata": {},
   "outputs": [],
   "source": [
    "# Columns 45 and 49 both have 2 unique values. We know one should have 41 instances of 1 and 896 instances of 0\n",
    "oil_df[oil_df[45]==1].shape[0], oil_df[oil_df[45]==0].shape[0]"
   ]
  },
  {
   "cell_type": "code",
   "execution_count": null,
   "id": "5535dc8e",
   "metadata": {},
   "outputs": [],
   "source": [
    "# It doesn't appear to be column 45. Try 49.\n",
    "oil_df[oil_df[49]==1].shape[0], oil_df[oil_df[49]==0].shape[0]"
   ]
  },
  {
   "cell_type": "markdown",
   "id": "d0358534",
   "metadata": {},
   "source": [
    "Column 49 is the class label."
   ]
  },
  {
   "cell_type": "code",
   "execution_count": null,
   "id": "2a0e5ed6",
   "metadata": {},
   "outputs": [],
   "source": [
    "#let's see the label weights as percent.\n",
    "pct_spill = oil_df[oil_df[49]==1].shape[0]/oil_df.shape[0]*100\n",
    "pct_nospill=oil_df[oil_df[49]==0].shape[0]/oil_df.shape[0]*100\n",
    "print('Class 1: %.3f%%, Class 0: %.3f%%' % (pct_spill, pct_nospill))"
   ]
  },
  {
   "cell_type": "code",
   "execution_count": null,
   "id": "1d770812",
   "metadata": {},
   "outputs": [],
   "source": [
    "# pandas has some helpful plotting functionality\n",
    "oil_df[49].hist()"
   ]
  },
  {
   "cell_type": "code",
   "execution_count": null,
   "id": "a664bbda",
   "metadata": {},
   "outputs": [],
   "source": [
    "# let's look at column 45. It's very similar to column 49.\n",
    "oil_df[45].hist()"
   ]
  },
  {
   "cell_type": "code",
   "execution_count": null,
   "id": "99002339",
   "metadata": {},
   "outputs": [],
   "source": [
    "# visualize the columns as histograms to see distributions.\n",
    "import matplotlib.pyplot as plt #import pyplot \n",
    "\n",
    "fig = plt.figure(figsize=(50,50)) #create a figure\n",
    "ax = fig.gca() #assign an axis variable that gets the current axis\n",
    "_ = oil_df.hist(ax=ax) #plot a histogram that uses data frame fields assigning a new axis to each field."
   ]
  },
  {
   "cell_type": "code",
   "execution_count": null,
   "id": "febc6837",
   "metadata": {},
   "outputs": [],
   "source": [
    "# recall we said it was appropriate to delete anything with variance less than 1\n",
    "to_del = [i for i, v in enumerate (counts) if (v/oil_df.shape[0]*100) <= 1]\n",
    "to_del"
   ]
  },
  {
   "cell_type": "code",
   "execution_count": null,
   "id": "027e596e",
   "metadata": {},
   "outputs": [],
   "source": [
    "# how many are we deleting?\n",
    "len(to_del)"
   ]
  },
  {
   "cell_type": "code",
   "execution_count": null,
   "id": "2a53e1e7",
   "metadata": {},
   "outputs": [],
   "source": [
    "# let's save the patch names and the labels as series to their own variables\n",
    "patches = oil_df[0]\n",
    "labels = oil_df[49]"
   ]
  },
  {
   "cell_type": "code",
   "execution_count": null,
   "id": "4283d3c3",
   "metadata": {},
   "outputs": [],
   "source": [
    "# drop the low variance fields in place by specifying them in the first axis.\n",
    "oil_df.drop(to_del, axis=1, inplace=True)"
   ]
  },
  {
   "cell_type": "code",
   "execution_count": null,
   "id": "88fcd877",
   "metadata": {},
   "outputs": [],
   "source": [
    "#check the shape of the resulting dataframe.\n",
    "oil_df.shape"
   ]
  },
  {
   "cell_type": "code",
   "execution_count": null,
   "id": "2733e673",
   "metadata": {},
   "outputs": [],
   "source": [
    "# we can join the patches and labels series into a dataframe using the pandas concat method.\n",
    "pd.concat([patches, labels], axis=1)"
   ]
  },
  {
   "cell_type": "code",
   "execution_count": null,
   "id": "69bdcad8",
   "metadata": {},
   "outputs": [],
   "source": [
    "# the concat method defaults to axis 0, which appends series end to end.\n",
    "pd.concat([patches,labels])"
   ]
  }
 ],
 "metadata": {
  "kernelspec": {
   "display_name": "Python 3 (ipykernel)",
   "language": "python",
   "name": "python3"
  },
  "language_info": {
   "codemirror_mode": {
    "name": "ipython",
    "version": 3
   },
   "file_extension": ".py",
   "mimetype": "text/x-python",
   "name": "python",
   "nbconvert_exporter": "python",
   "pygments_lexer": "ipython3",
   "version": "3.9.12"
  }
 },
 "nbformat": 4,
 "nbformat_minor": 5
}
